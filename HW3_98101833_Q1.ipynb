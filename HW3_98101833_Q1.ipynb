{
  "cells": [
    {
      "cell_type": "markdown",
      "source": [
        "# part 1"
      ],
      "metadata": {
        "id": "He8zdZMjdDay"
      }
    },
    {
      "cell_type": "code",
      "execution_count": 1,
      "metadata": {
        "id": "XFbC6wws3GV7"
      },
      "outputs": [],
      "source": [
        "import torch\n",
        "import torch.nn as nn\n",
        "import torch.optim as optim\n",
        "from torch.utils.data import DataLoader\n",
        "from torchvision import transforms\n",
        "from torchvision.datasets import CIFAR10\n",
        "import matplotlib.pyplot as plt"
      ]
    },
    {
      "cell_type": "code",
      "execution_count": 2,
      "metadata": {
        "id": "d8ZBNpn33JWr"
      },
      "outputs": [],
      "source": [
        "device = torch.device('cuda' if torch.cuda.is_available() else 'cpu')\n",
        "num_classes = 2\n",
        "batch_size = 64\n",
        "learning_rate = 0.001\n",
        "num_epochs = 10"
      ]
    },
    {
      "cell_type": "code",
      "execution_count": 3,
      "metadata": {
        "colab": {
          "base_uri": "https://localhost:8080/"
        },
        "id": "RBRHSfCP5o_s",
        "outputId": "5e460a00-c718-4001-e770-c53a0fd2fcd9"
      },
      "outputs": [
        {
          "output_type": "stream",
          "name": "stdout",
          "text": [
            "Downloading https://www.cs.toronto.edu/~kriz/cifar-10-python.tar.gz to ./data/cifar-10-python.tar.gz\n"
          ]
        },
        {
          "output_type": "stream",
          "name": "stderr",
          "text": [
            "100%|██████████| 170498071/170498071 [00:01<00:00, 102933518.94it/s]\n"
          ]
        },
        {
          "output_type": "stream",
          "name": "stdout",
          "text": [
            "Extracting ./data/cifar-10-python.tar.gz to ./data\n",
            "Files already downloaded and verified\n"
          ]
        }
      ],
      "source": [
        "transform = transforms.Compose([transforms.Resize((224, 224)),\n",
        "                                transforms.ToTensor()])\n",
        "\n",
        "train_dataset = CIFAR10(root='./data', train=True, transform=transform, download=True)\n",
        "test_dataset = CIFAR10(root='./data', train=False, transform=transform, download=True)"
      ]
    },
    {
      "cell_type": "code",
      "execution_count": 4,
      "metadata": {
        "id": "GaYGQUJk3u36"
      },
      "outputs": [],
      "source": [
        "def is_airplane_or_automobile(label):\n",
        "    return label == 0 or label == 1"
      ]
    },
    {
      "cell_type": "code",
      "execution_count": 5,
      "metadata": {
        "id": "ikqg65LR5LmW"
      },
      "outputs": [],
      "source": [
        "def filter_dataset(dataset, filter_func):\n",
        "    filtered_indices = [i for i in range(len(dataset)) if filter_func(dataset.targets[i])]\n",
        "    return torch.utils.data.Subset(dataset, filtered_indices)"
      ]
    },
    {
      "cell_type": "code",
      "execution_count": 6,
      "metadata": {
        "colab": {
          "base_uri": "https://localhost:8080/"
        },
        "id": "lrNJdz2J5N4U",
        "outputId": "279b42d2-54c8-4a3f-a613-d32d13ebec27"
      },
      "outputs": [
        {
          "output_type": "stream",
          "name": "stdout",
          "text": [
            "10000 2000\n"
          ]
        }
      ],
      "source": [
        "airplane_or_automobile_train_dataset = filter_dataset(train_dataset, is_airplane_or_automobile)\n",
        "airplane_or_automobile_test_dataset = filter_dataset(test_dataset, is_airplane_or_automobile)\n",
        "print(len(airplane_or_automobile_train_dataset), len(airplane_or_automobile_test_dataset))"
      ]
    },
    {
      "cell_type": "code",
      "execution_count": 7,
      "metadata": {
        "colab": {
          "base_uri": "https://localhost:8080/"
        },
        "id": "5fK_VtF07qvU",
        "outputId": "d0f02582-5cf2-47a0-9fd6-a96f0bbffb34"
      },
      "outputs": [
        {
          "output_type": "stream",
          "name": "stdout",
          "text": [
            "157 32\n"
          ]
        }
      ],
      "source": [
        "airplane_or_automobile_train_loader = DataLoader(dataset=airplane_or_automobile_train_dataset, batch_size=batch_size, shuffle=True)\n",
        "airplane_or_automobile_test_loader = DataLoader(dataset=airplane_or_automobile_test_dataset, batch_size=batch_size, shuffle=False)\n",
        "print(len(airplane_or_automobile_train_loader), len(airplane_or_automobile_test_loader))"
      ]
    },
    {
      "cell_type": "code",
      "execution_count": 8,
      "metadata": {
        "colab": {
          "base_uri": "https://localhost:8080/"
        },
        "id": "kpmLeoxqKiLY",
        "outputId": "96ba72cd-b2ae-4cd1-85fe-a2493c716e87"
      },
      "outputs": [
        {
          "output_type": "execute_result",
          "data": {
            "text/plain": [
              "torch.Size([64, 3, 224, 224])"
            ]
          },
          "metadata": {},
          "execution_count": 8
        }
      ],
      "source": [
        "next(iter(airplane_or_automobile_train_loader))[0].shape"
      ]
    },
    {
      "cell_type": "code",
      "execution_count": 9,
      "metadata": {
        "colab": {
          "base_uri": "https://localhost:8080/"
        },
        "id": "PxqrDABV8BHd",
        "outputId": "a8d6b24f-1d5a-44a3-9756-acb88606170d"
      },
      "outputs": [
        {
          "output_type": "stream",
          "name": "stderr",
          "text": [
            "Downloading: \"https://github.com/pytorch/vision/zipball/v0.10.0\" to /root/.cache/torch/hub/v0.10.0.zip\n",
            "/usr/local/lib/python3.10/dist-packages/torchvision/models/_utils.py:208: UserWarning: The parameter 'pretrained' is deprecated since 0.13 and may be removed in the future, please use 'weights' instead.\n",
            "  warnings.warn(\n",
            "/usr/local/lib/python3.10/dist-packages/torchvision/models/_utils.py:223: UserWarning: Arguments other than a weight enum or `None` for 'weights' are deprecated since 0.13 and may be removed in the future. The current behavior is equivalent to passing `weights=ResNet50_Weights.IMAGENET1K_V1`. You can also use `weights=ResNet50_Weights.DEFAULT` to get the most up-to-date weights.\n",
            "  warnings.warn(msg)\n",
            "Downloading: \"https://download.pytorch.org/models/resnet50-0676ba61.pth\" to /root/.cache/torch/hub/checkpoints/resnet50-0676ba61.pth\n",
            "100%|██████████| 97.8M/97.8M [00:00<00:00, 142MB/s]\n"
          ]
        },
        {
          "output_type": "execute_result",
          "data": {
            "text/plain": [
              "ResNet(\n",
              "  (conv1): Conv2d(3, 64, kernel_size=(7, 7), stride=(2, 2), padding=(3, 3), bias=False)\n",
              "  (bn1): BatchNorm2d(64, eps=1e-05, momentum=0.1, affine=True, track_running_stats=True)\n",
              "  (relu): ReLU(inplace=True)\n",
              "  (maxpool): MaxPool2d(kernel_size=3, stride=2, padding=1, dilation=1, ceil_mode=False)\n",
              "  (layer1): Sequential(\n",
              "    (0): Bottleneck(\n",
              "      (conv1): Conv2d(64, 64, kernel_size=(1, 1), stride=(1, 1), bias=False)\n",
              "      (bn1): BatchNorm2d(64, eps=1e-05, momentum=0.1, affine=True, track_running_stats=True)\n",
              "      (conv2): Conv2d(64, 64, kernel_size=(3, 3), stride=(1, 1), padding=(1, 1), bias=False)\n",
              "      (bn2): BatchNorm2d(64, eps=1e-05, momentum=0.1, affine=True, track_running_stats=True)\n",
              "      (conv3): Conv2d(64, 256, kernel_size=(1, 1), stride=(1, 1), bias=False)\n",
              "      (bn3): BatchNorm2d(256, eps=1e-05, momentum=0.1, affine=True, track_running_stats=True)\n",
              "      (relu): ReLU(inplace=True)\n",
              "      (downsample): Sequential(\n",
              "        (0): Conv2d(64, 256, kernel_size=(1, 1), stride=(1, 1), bias=False)\n",
              "        (1): BatchNorm2d(256, eps=1e-05, momentum=0.1, affine=True, track_running_stats=True)\n",
              "      )\n",
              "    )\n",
              "    (1): Bottleneck(\n",
              "      (conv1): Conv2d(256, 64, kernel_size=(1, 1), stride=(1, 1), bias=False)\n",
              "      (bn1): BatchNorm2d(64, eps=1e-05, momentum=0.1, affine=True, track_running_stats=True)\n",
              "      (conv2): Conv2d(64, 64, kernel_size=(3, 3), stride=(1, 1), padding=(1, 1), bias=False)\n",
              "      (bn2): BatchNorm2d(64, eps=1e-05, momentum=0.1, affine=True, track_running_stats=True)\n",
              "      (conv3): Conv2d(64, 256, kernel_size=(1, 1), stride=(1, 1), bias=False)\n",
              "      (bn3): BatchNorm2d(256, eps=1e-05, momentum=0.1, affine=True, track_running_stats=True)\n",
              "      (relu): ReLU(inplace=True)\n",
              "    )\n",
              "    (2): Bottleneck(\n",
              "      (conv1): Conv2d(256, 64, kernel_size=(1, 1), stride=(1, 1), bias=False)\n",
              "      (bn1): BatchNorm2d(64, eps=1e-05, momentum=0.1, affine=True, track_running_stats=True)\n",
              "      (conv2): Conv2d(64, 64, kernel_size=(3, 3), stride=(1, 1), padding=(1, 1), bias=False)\n",
              "      (bn2): BatchNorm2d(64, eps=1e-05, momentum=0.1, affine=True, track_running_stats=True)\n",
              "      (conv3): Conv2d(64, 256, kernel_size=(1, 1), stride=(1, 1), bias=False)\n",
              "      (bn3): BatchNorm2d(256, eps=1e-05, momentum=0.1, affine=True, track_running_stats=True)\n",
              "      (relu): ReLU(inplace=True)\n",
              "    )\n",
              "  )\n",
              "  (layer2): Sequential(\n",
              "    (0): Bottleneck(\n",
              "      (conv1): Conv2d(256, 128, kernel_size=(1, 1), stride=(1, 1), bias=False)\n",
              "      (bn1): BatchNorm2d(128, eps=1e-05, momentum=0.1, affine=True, track_running_stats=True)\n",
              "      (conv2): Conv2d(128, 128, kernel_size=(3, 3), stride=(2, 2), padding=(1, 1), bias=False)\n",
              "      (bn2): BatchNorm2d(128, eps=1e-05, momentum=0.1, affine=True, track_running_stats=True)\n",
              "      (conv3): Conv2d(128, 512, kernel_size=(1, 1), stride=(1, 1), bias=False)\n",
              "      (bn3): BatchNorm2d(512, eps=1e-05, momentum=0.1, affine=True, track_running_stats=True)\n",
              "      (relu): ReLU(inplace=True)\n",
              "      (downsample): Sequential(\n",
              "        (0): Conv2d(256, 512, kernel_size=(1, 1), stride=(2, 2), bias=False)\n",
              "        (1): BatchNorm2d(512, eps=1e-05, momentum=0.1, affine=True, track_running_stats=True)\n",
              "      )\n",
              "    )\n",
              "    (1): Bottleneck(\n",
              "      (conv1): Conv2d(512, 128, kernel_size=(1, 1), stride=(1, 1), bias=False)\n",
              "      (bn1): BatchNorm2d(128, eps=1e-05, momentum=0.1, affine=True, track_running_stats=True)\n",
              "      (conv2): Conv2d(128, 128, kernel_size=(3, 3), stride=(1, 1), padding=(1, 1), bias=False)\n",
              "      (bn2): BatchNorm2d(128, eps=1e-05, momentum=0.1, affine=True, track_running_stats=True)\n",
              "      (conv3): Conv2d(128, 512, kernel_size=(1, 1), stride=(1, 1), bias=False)\n",
              "      (bn3): BatchNorm2d(512, eps=1e-05, momentum=0.1, affine=True, track_running_stats=True)\n",
              "      (relu): ReLU(inplace=True)\n",
              "    )\n",
              "    (2): Bottleneck(\n",
              "      (conv1): Conv2d(512, 128, kernel_size=(1, 1), stride=(1, 1), bias=False)\n",
              "      (bn1): BatchNorm2d(128, eps=1e-05, momentum=0.1, affine=True, track_running_stats=True)\n",
              "      (conv2): Conv2d(128, 128, kernel_size=(3, 3), stride=(1, 1), padding=(1, 1), bias=False)\n",
              "      (bn2): BatchNorm2d(128, eps=1e-05, momentum=0.1, affine=True, track_running_stats=True)\n",
              "      (conv3): Conv2d(128, 512, kernel_size=(1, 1), stride=(1, 1), bias=False)\n",
              "      (bn3): BatchNorm2d(512, eps=1e-05, momentum=0.1, affine=True, track_running_stats=True)\n",
              "      (relu): ReLU(inplace=True)\n",
              "    )\n",
              "    (3): Bottleneck(\n",
              "      (conv1): Conv2d(512, 128, kernel_size=(1, 1), stride=(1, 1), bias=False)\n",
              "      (bn1): BatchNorm2d(128, eps=1e-05, momentum=0.1, affine=True, track_running_stats=True)\n",
              "      (conv2): Conv2d(128, 128, kernel_size=(3, 3), stride=(1, 1), padding=(1, 1), bias=False)\n",
              "      (bn2): BatchNorm2d(128, eps=1e-05, momentum=0.1, affine=True, track_running_stats=True)\n",
              "      (conv3): Conv2d(128, 512, kernel_size=(1, 1), stride=(1, 1), bias=False)\n",
              "      (bn3): BatchNorm2d(512, eps=1e-05, momentum=0.1, affine=True, track_running_stats=True)\n",
              "      (relu): ReLU(inplace=True)\n",
              "    )\n",
              "  )\n",
              "  (layer3): Sequential(\n",
              "    (0): Bottleneck(\n",
              "      (conv1): Conv2d(512, 256, kernel_size=(1, 1), stride=(1, 1), bias=False)\n",
              "      (bn1): BatchNorm2d(256, eps=1e-05, momentum=0.1, affine=True, track_running_stats=True)\n",
              "      (conv2): Conv2d(256, 256, kernel_size=(3, 3), stride=(2, 2), padding=(1, 1), bias=False)\n",
              "      (bn2): BatchNorm2d(256, eps=1e-05, momentum=0.1, affine=True, track_running_stats=True)\n",
              "      (conv3): Conv2d(256, 1024, kernel_size=(1, 1), stride=(1, 1), bias=False)\n",
              "      (bn3): BatchNorm2d(1024, eps=1e-05, momentum=0.1, affine=True, track_running_stats=True)\n",
              "      (relu): ReLU(inplace=True)\n",
              "      (downsample): Sequential(\n",
              "        (0): Conv2d(512, 1024, kernel_size=(1, 1), stride=(2, 2), bias=False)\n",
              "        (1): BatchNorm2d(1024, eps=1e-05, momentum=0.1, affine=True, track_running_stats=True)\n",
              "      )\n",
              "    )\n",
              "    (1): Bottleneck(\n",
              "      (conv1): Conv2d(1024, 256, kernel_size=(1, 1), stride=(1, 1), bias=False)\n",
              "      (bn1): BatchNorm2d(256, eps=1e-05, momentum=0.1, affine=True, track_running_stats=True)\n",
              "      (conv2): Conv2d(256, 256, kernel_size=(3, 3), stride=(1, 1), padding=(1, 1), bias=False)\n",
              "      (bn2): BatchNorm2d(256, eps=1e-05, momentum=0.1, affine=True, track_running_stats=True)\n",
              "      (conv3): Conv2d(256, 1024, kernel_size=(1, 1), stride=(1, 1), bias=False)\n",
              "      (bn3): BatchNorm2d(1024, eps=1e-05, momentum=0.1, affine=True, track_running_stats=True)\n",
              "      (relu): ReLU(inplace=True)\n",
              "    )\n",
              "    (2): Bottleneck(\n",
              "      (conv1): Conv2d(1024, 256, kernel_size=(1, 1), stride=(1, 1), bias=False)\n",
              "      (bn1): BatchNorm2d(256, eps=1e-05, momentum=0.1, affine=True, track_running_stats=True)\n",
              "      (conv2): Conv2d(256, 256, kernel_size=(3, 3), stride=(1, 1), padding=(1, 1), bias=False)\n",
              "      (bn2): BatchNorm2d(256, eps=1e-05, momentum=0.1, affine=True, track_running_stats=True)\n",
              "      (conv3): Conv2d(256, 1024, kernel_size=(1, 1), stride=(1, 1), bias=False)\n",
              "      (bn3): BatchNorm2d(1024, eps=1e-05, momentum=0.1, affine=True, track_running_stats=True)\n",
              "      (relu): ReLU(inplace=True)\n",
              "    )\n",
              "    (3): Bottleneck(\n",
              "      (conv1): Conv2d(1024, 256, kernel_size=(1, 1), stride=(1, 1), bias=False)\n",
              "      (bn1): BatchNorm2d(256, eps=1e-05, momentum=0.1, affine=True, track_running_stats=True)\n",
              "      (conv2): Conv2d(256, 256, kernel_size=(3, 3), stride=(1, 1), padding=(1, 1), bias=False)\n",
              "      (bn2): BatchNorm2d(256, eps=1e-05, momentum=0.1, affine=True, track_running_stats=True)\n",
              "      (conv3): Conv2d(256, 1024, kernel_size=(1, 1), stride=(1, 1), bias=False)\n",
              "      (bn3): BatchNorm2d(1024, eps=1e-05, momentum=0.1, affine=True, track_running_stats=True)\n",
              "      (relu): ReLU(inplace=True)\n",
              "    )\n",
              "    (4): Bottleneck(\n",
              "      (conv1): Conv2d(1024, 256, kernel_size=(1, 1), stride=(1, 1), bias=False)\n",
              "      (bn1): BatchNorm2d(256, eps=1e-05, momentum=0.1, affine=True, track_running_stats=True)\n",
              "      (conv2): Conv2d(256, 256, kernel_size=(3, 3), stride=(1, 1), padding=(1, 1), bias=False)\n",
              "      (bn2): BatchNorm2d(256, eps=1e-05, momentum=0.1, affine=True, track_running_stats=True)\n",
              "      (conv3): Conv2d(256, 1024, kernel_size=(1, 1), stride=(1, 1), bias=False)\n",
              "      (bn3): BatchNorm2d(1024, eps=1e-05, momentum=0.1, affine=True, track_running_stats=True)\n",
              "      (relu): ReLU(inplace=True)\n",
              "    )\n",
              "    (5): Bottleneck(\n",
              "      (conv1): Conv2d(1024, 256, kernel_size=(1, 1), stride=(1, 1), bias=False)\n",
              "      (bn1): BatchNorm2d(256, eps=1e-05, momentum=0.1, affine=True, track_running_stats=True)\n",
              "      (conv2): Conv2d(256, 256, kernel_size=(3, 3), stride=(1, 1), padding=(1, 1), bias=False)\n",
              "      (bn2): BatchNorm2d(256, eps=1e-05, momentum=0.1, affine=True, track_running_stats=True)\n",
              "      (conv3): Conv2d(256, 1024, kernel_size=(1, 1), stride=(1, 1), bias=False)\n",
              "      (bn3): BatchNorm2d(1024, eps=1e-05, momentum=0.1, affine=True, track_running_stats=True)\n",
              "      (relu): ReLU(inplace=True)\n",
              "    )\n",
              "  )\n",
              "  (layer4): Sequential(\n",
              "    (0): Bottleneck(\n",
              "      (conv1): Conv2d(1024, 512, kernel_size=(1, 1), stride=(1, 1), bias=False)\n",
              "      (bn1): BatchNorm2d(512, eps=1e-05, momentum=0.1, affine=True, track_running_stats=True)\n",
              "      (conv2): Conv2d(512, 512, kernel_size=(3, 3), stride=(2, 2), padding=(1, 1), bias=False)\n",
              "      (bn2): BatchNorm2d(512, eps=1e-05, momentum=0.1, affine=True, track_running_stats=True)\n",
              "      (conv3): Conv2d(512, 2048, kernel_size=(1, 1), stride=(1, 1), bias=False)\n",
              "      (bn3): BatchNorm2d(2048, eps=1e-05, momentum=0.1, affine=True, track_running_stats=True)\n",
              "      (relu): ReLU(inplace=True)\n",
              "      (downsample): Sequential(\n",
              "        (0): Conv2d(1024, 2048, kernel_size=(1, 1), stride=(2, 2), bias=False)\n",
              "        (1): BatchNorm2d(2048, eps=1e-05, momentum=0.1, affine=True, track_running_stats=True)\n",
              "      )\n",
              "    )\n",
              "    (1): Bottleneck(\n",
              "      (conv1): Conv2d(2048, 512, kernel_size=(1, 1), stride=(1, 1), bias=False)\n",
              "      (bn1): BatchNorm2d(512, eps=1e-05, momentum=0.1, affine=True, track_running_stats=True)\n",
              "      (conv2): Conv2d(512, 512, kernel_size=(3, 3), stride=(1, 1), padding=(1, 1), bias=False)\n",
              "      (bn2): BatchNorm2d(512, eps=1e-05, momentum=0.1, affine=True, track_running_stats=True)\n",
              "      (conv3): Conv2d(512, 2048, kernel_size=(1, 1), stride=(1, 1), bias=False)\n",
              "      (bn3): BatchNorm2d(2048, eps=1e-05, momentum=0.1, affine=True, track_running_stats=True)\n",
              "      (relu): ReLU(inplace=True)\n",
              "    )\n",
              "    (2): Bottleneck(\n",
              "      (conv1): Conv2d(2048, 512, kernel_size=(1, 1), stride=(1, 1), bias=False)\n",
              "      (bn1): BatchNorm2d(512, eps=1e-05, momentum=0.1, affine=True, track_running_stats=True)\n",
              "      (conv2): Conv2d(512, 512, kernel_size=(3, 3), stride=(1, 1), padding=(1, 1), bias=False)\n",
              "      (bn2): BatchNorm2d(512, eps=1e-05, momentum=0.1, affine=True, track_running_stats=True)\n",
              "      (conv3): Conv2d(512, 2048, kernel_size=(1, 1), stride=(1, 1), bias=False)\n",
              "      (bn3): BatchNorm2d(2048, eps=1e-05, momentum=0.1, affine=True, track_running_stats=True)\n",
              "      (relu): ReLU(inplace=True)\n",
              "    )\n",
              "  )\n",
              "  (avgpool): AdaptiveAvgPool2d(output_size=(1, 1))\n",
              "  (fc): Linear(in_features=2048, out_features=1000, bias=True)\n",
              ")"
            ]
          },
          "metadata": {},
          "execution_count": 9
        }
      ],
      "source": [
        "resnet50_model = torch.hub.load('pytorch/vision:v0.10.0', 'resnet50', pretrained=True)\n",
        "resnet50_model.eval()"
      ]
    },
    {
      "cell_type": "code",
      "execution_count": 10,
      "metadata": {
        "id": "eVNpwGwxmy7I"
      },
      "outputs": [],
      "source": [
        "for param in resnet50_model.parameters():\n",
        "    param.requires_grad = False"
      ]
    },
    {
      "cell_type": "code",
      "execution_count": 11,
      "metadata": {
        "id": "3Jt_7leTnJ26"
      },
      "outputs": [],
      "source": [
        "torch.manual_seed(42)\n",
        "torch.cuda.manual_seed(42)\n",
        "\n",
        "resnet50_model.fc = torch.nn.Linear(in_features=2048, out_features=2, bias=True).to(device)"
      ]
    },
    {
      "cell_type": "code",
      "execution_count": 12,
      "metadata": {
        "colab": {
          "base_uri": "https://localhost:8080/"
        },
        "id": "S2_TgjCatQz1",
        "outputId": "1df31d85-d20c-4292-802e-31558c9e2f67"
      },
      "outputs": [
        {
          "output_type": "execute_result",
          "data": {
            "text/plain": [
              "ResNet(\n",
              "  (conv1): Conv2d(3, 64, kernel_size=(7, 7), stride=(2, 2), padding=(3, 3), bias=False)\n",
              "  (bn1): BatchNorm2d(64, eps=1e-05, momentum=0.1, affine=True, track_running_stats=True)\n",
              "  (relu): ReLU(inplace=True)\n",
              "  (maxpool): MaxPool2d(kernel_size=3, stride=2, padding=1, dilation=1, ceil_mode=False)\n",
              "  (layer1): Sequential(\n",
              "    (0): Bottleneck(\n",
              "      (conv1): Conv2d(64, 64, kernel_size=(1, 1), stride=(1, 1), bias=False)\n",
              "      (bn1): BatchNorm2d(64, eps=1e-05, momentum=0.1, affine=True, track_running_stats=True)\n",
              "      (conv2): Conv2d(64, 64, kernel_size=(3, 3), stride=(1, 1), padding=(1, 1), bias=False)\n",
              "      (bn2): BatchNorm2d(64, eps=1e-05, momentum=0.1, affine=True, track_running_stats=True)\n",
              "      (conv3): Conv2d(64, 256, kernel_size=(1, 1), stride=(1, 1), bias=False)\n",
              "      (bn3): BatchNorm2d(256, eps=1e-05, momentum=0.1, affine=True, track_running_stats=True)\n",
              "      (relu): ReLU(inplace=True)\n",
              "      (downsample): Sequential(\n",
              "        (0): Conv2d(64, 256, kernel_size=(1, 1), stride=(1, 1), bias=False)\n",
              "        (1): BatchNorm2d(256, eps=1e-05, momentum=0.1, affine=True, track_running_stats=True)\n",
              "      )\n",
              "    )\n",
              "    (1): Bottleneck(\n",
              "      (conv1): Conv2d(256, 64, kernel_size=(1, 1), stride=(1, 1), bias=False)\n",
              "      (bn1): BatchNorm2d(64, eps=1e-05, momentum=0.1, affine=True, track_running_stats=True)\n",
              "      (conv2): Conv2d(64, 64, kernel_size=(3, 3), stride=(1, 1), padding=(1, 1), bias=False)\n",
              "      (bn2): BatchNorm2d(64, eps=1e-05, momentum=0.1, affine=True, track_running_stats=True)\n",
              "      (conv3): Conv2d(64, 256, kernel_size=(1, 1), stride=(1, 1), bias=False)\n",
              "      (bn3): BatchNorm2d(256, eps=1e-05, momentum=0.1, affine=True, track_running_stats=True)\n",
              "      (relu): ReLU(inplace=True)\n",
              "    )\n",
              "    (2): Bottleneck(\n",
              "      (conv1): Conv2d(256, 64, kernel_size=(1, 1), stride=(1, 1), bias=False)\n",
              "      (bn1): BatchNorm2d(64, eps=1e-05, momentum=0.1, affine=True, track_running_stats=True)\n",
              "      (conv2): Conv2d(64, 64, kernel_size=(3, 3), stride=(1, 1), padding=(1, 1), bias=False)\n",
              "      (bn2): BatchNorm2d(64, eps=1e-05, momentum=0.1, affine=True, track_running_stats=True)\n",
              "      (conv3): Conv2d(64, 256, kernel_size=(1, 1), stride=(1, 1), bias=False)\n",
              "      (bn3): BatchNorm2d(256, eps=1e-05, momentum=0.1, affine=True, track_running_stats=True)\n",
              "      (relu): ReLU(inplace=True)\n",
              "    )\n",
              "  )\n",
              "  (layer2): Sequential(\n",
              "    (0): Bottleneck(\n",
              "      (conv1): Conv2d(256, 128, kernel_size=(1, 1), stride=(1, 1), bias=False)\n",
              "      (bn1): BatchNorm2d(128, eps=1e-05, momentum=0.1, affine=True, track_running_stats=True)\n",
              "      (conv2): Conv2d(128, 128, kernel_size=(3, 3), stride=(2, 2), padding=(1, 1), bias=False)\n",
              "      (bn2): BatchNorm2d(128, eps=1e-05, momentum=0.1, affine=True, track_running_stats=True)\n",
              "      (conv3): Conv2d(128, 512, kernel_size=(1, 1), stride=(1, 1), bias=False)\n",
              "      (bn3): BatchNorm2d(512, eps=1e-05, momentum=0.1, affine=True, track_running_stats=True)\n",
              "      (relu): ReLU(inplace=True)\n",
              "      (downsample): Sequential(\n",
              "        (0): Conv2d(256, 512, kernel_size=(1, 1), stride=(2, 2), bias=False)\n",
              "        (1): BatchNorm2d(512, eps=1e-05, momentum=0.1, affine=True, track_running_stats=True)\n",
              "      )\n",
              "    )\n",
              "    (1): Bottleneck(\n",
              "      (conv1): Conv2d(512, 128, kernel_size=(1, 1), stride=(1, 1), bias=False)\n",
              "      (bn1): BatchNorm2d(128, eps=1e-05, momentum=0.1, affine=True, track_running_stats=True)\n",
              "      (conv2): Conv2d(128, 128, kernel_size=(3, 3), stride=(1, 1), padding=(1, 1), bias=False)\n",
              "      (bn2): BatchNorm2d(128, eps=1e-05, momentum=0.1, affine=True, track_running_stats=True)\n",
              "      (conv3): Conv2d(128, 512, kernel_size=(1, 1), stride=(1, 1), bias=False)\n",
              "      (bn3): BatchNorm2d(512, eps=1e-05, momentum=0.1, affine=True, track_running_stats=True)\n",
              "      (relu): ReLU(inplace=True)\n",
              "    )\n",
              "    (2): Bottleneck(\n",
              "      (conv1): Conv2d(512, 128, kernel_size=(1, 1), stride=(1, 1), bias=False)\n",
              "      (bn1): BatchNorm2d(128, eps=1e-05, momentum=0.1, affine=True, track_running_stats=True)\n",
              "      (conv2): Conv2d(128, 128, kernel_size=(3, 3), stride=(1, 1), padding=(1, 1), bias=False)\n",
              "      (bn2): BatchNorm2d(128, eps=1e-05, momentum=0.1, affine=True, track_running_stats=True)\n",
              "      (conv3): Conv2d(128, 512, kernel_size=(1, 1), stride=(1, 1), bias=False)\n",
              "      (bn3): BatchNorm2d(512, eps=1e-05, momentum=0.1, affine=True, track_running_stats=True)\n",
              "      (relu): ReLU(inplace=True)\n",
              "    )\n",
              "    (3): Bottleneck(\n",
              "      (conv1): Conv2d(512, 128, kernel_size=(1, 1), stride=(1, 1), bias=False)\n",
              "      (bn1): BatchNorm2d(128, eps=1e-05, momentum=0.1, affine=True, track_running_stats=True)\n",
              "      (conv2): Conv2d(128, 128, kernel_size=(3, 3), stride=(1, 1), padding=(1, 1), bias=False)\n",
              "      (bn2): BatchNorm2d(128, eps=1e-05, momentum=0.1, affine=True, track_running_stats=True)\n",
              "      (conv3): Conv2d(128, 512, kernel_size=(1, 1), stride=(1, 1), bias=False)\n",
              "      (bn3): BatchNorm2d(512, eps=1e-05, momentum=0.1, affine=True, track_running_stats=True)\n",
              "      (relu): ReLU(inplace=True)\n",
              "    )\n",
              "  )\n",
              "  (layer3): Sequential(\n",
              "    (0): Bottleneck(\n",
              "      (conv1): Conv2d(512, 256, kernel_size=(1, 1), stride=(1, 1), bias=False)\n",
              "      (bn1): BatchNorm2d(256, eps=1e-05, momentum=0.1, affine=True, track_running_stats=True)\n",
              "      (conv2): Conv2d(256, 256, kernel_size=(3, 3), stride=(2, 2), padding=(1, 1), bias=False)\n",
              "      (bn2): BatchNorm2d(256, eps=1e-05, momentum=0.1, affine=True, track_running_stats=True)\n",
              "      (conv3): Conv2d(256, 1024, kernel_size=(1, 1), stride=(1, 1), bias=False)\n",
              "      (bn3): BatchNorm2d(1024, eps=1e-05, momentum=0.1, affine=True, track_running_stats=True)\n",
              "      (relu): ReLU(inplace=True)\n",
              "      (downsample): Sequential(\n",
              "        (0): Conv2d(512, 1024, kernel_size=(1, 1), stride=(2, 2), bias=False)\n",
              "        (1): BatchNorm2d(1024, eps=1e-05, momentum=0.1, affine=True, track_running_stats=True)\n",
              "      )\n",
              "    )\n",
              "    (1): Bottleneck(\n",
              "      (conv1): Conv2d(1024, 256, kernel_size=(1, 1), stride=(1, 1), bias=False)\n",
              "      (bn1): BatchNorm2d(256, eps=1e-05, momentum=0.1, affine=True, track_running_stats=True)\n",
              "      (conv2): Conv2d(256, 256, kernel_size=(3, 3), stride=(1, 1), padding=(1, 1), bias=False)\n",
              "      (bn2): BatchNorm2d(256, eps=1e-05, momentum=0.1, affine=True, track_running_stats=True)\n",
              "      (conv3): Conv2d(256, 1024, kernel_size=(1, 1), stride=(1, 1), bias=False)\n",
              "      (bn3): BatchNorm2d(1024, eps=1e-05, momentum=0.1, affine=True, track_running_stats=True)\n",
              "      (relu): ReLU(inplace=True)\n",
              "    )\n",
              "    (2): Bottleneck(\n",
              "      (conv1): Conv2d(1024, 256, kernel_size=(1, 1), stride=(1, 1), bias=False)\n",
              "      (bn1): BatchNorm2d(256, eps=1e-05, momentum=0.1, affine=True, track_running_stats=True)\n",
              "      (conv2): Conv2d(256, 256, kernel_size=(3, 3), stride=(1, 1), padding=(1, 1), bias=False)\n",
              "      (bn2): BatchNorm2d(256, eps=1e-05, momentum=0.1, affine=True, track_running_stats=True)\n",
              "      (conv3): Conv2d(256, 1024, kernel_size=(1, 1), stride=(1, 1), bias=False)\n",
              "      (bn3): BatchNorm2d(1024, eps=1e-05, momentum=0.1, affine=True, track_running_stats=True)\n",
              "      (relu): ReLU(inplace=True)\n",
              "    )\n",
              "    (3): Bottleneck(\n",
              "      (conv1): Conv2d(1024, 256, kernel_size=(1, 1), stride=(1, 1), bias=False)\n",
              "      (bn1): BatchNorm2d(256, eps=1e-05, momentum=0.1, affine=True, track_running_stats=True)\n",
              "      (conv2): Conv2d(256, 256, kernel_size=(3, 3), stride=(1, 1), padding=(1, 1), bias=False)\n",
              "      (bn2): BatchNorm2d(256, eps=1e-05, momentum=0.1, affine=True, track_running_stats=True)\n",
              "      (conv3): Conv2d(256, 1024, kernel_size=(1, 1), stride=(1, 1), bias=False)\n",
              "      (bn3): BatchNorm2d(1024, eps=1e-05, momentum=0.1, affine=True, track_running_stats=True)\n",
              "      (relu): ReLU(inplace=True)\n",
              "    )\n",
              "    (4): Bottleneck(\n",
              "      (conv1): Conv2d(1024, 256, kernel_size=(1, 1), stride=(1, 1), bias=False)\n",
              "      (bn1): BatchNorm2d(256, eps=1e-05, momentum=0.1, affine=True, track_running_stats=True)\n",
              "      (conv2): Conv2d(256, 256, kernel_size=(3, 3), stride=(1, 1), padding=(1, 1), bias=False)\n",
              "      (bn2): BatchNorm2d(256, eps=1e-05, momentum=0.1, affine=True, track_running_stats=True)\n",
              "      (conv3): Conv2d(256, 1024, kernel_size=(1, 1), stride=(1, 1), bias=False)\n",
              "      (bn3): BatchNorm2d(1024, eps=1e-05, momentum=0.1, affine=True, track_running_stats=True)\n",
              "      (relu): ReLU(inplace=True)\n",
              "    )\n",
              "    (5): Bottleneck(\n",
              "      (conv1): Conv2d(1024, 256, kernel_size=(1, 1), stride=(1, 1), bias=False)\n",
              "      (bn1): BatchNorm2d(256, eps=1e-05, momentum=0.1, affine=True, track_running_stats=True)\n",
              "      (conv2): Conv2d(256, 256, kernel_size=(3, 3), stride=(1, 1), padding=(1, 1), bias=False)\n",
              "      (bn2): BatchNorm2d(256, eps=1e-05, momentum=0.1, affine=True, track_running_stats=True)\n",
              "      (conv3): Conv2d(256, 1024, kernel_size=(1, 1), stride=(1, 1), bias=False)\n",
              "      (bn3): BatchNorm2d(1024, eps=1e-05, momentum=0.1, affine=True, track_running_stats=True)\n",
              "      (relu): ReLU(inplace=True)\n",
              "    )\n",
              "  )\n",
              "  (layer4): Sequential(\n",
              "    (0): Bottleneck(\n",
              "      (conv1): Conv2d(1024, 512, kernel_size=(1, 1), stride=(1, 1), bias=False)\n",
              "      (bn1): BatchNorm2d(512, eps=1e-05, momentum=0.1, affine=True, track_running_stats=True)\n",
              "      (conv2): Conv2d(512, 512, kernel_size=(3, 3), stride=(2, 2), padding=(1, 1), bias=False)\n",
              "      (bn2): BatchNorm2d(512, eps=1e-05, momentum=0.1, affine=True, track_running_stats=True)\n",
              "      (conv3): Conv2d(512, 2048, kernel_size=(1, 1), stride=(1, 1), bias=False)\n",
              "      (bn3): BatchNorm2d(2048, eps=1e-05, momentum=0.1, affine=True, track_running_stats=True)\n",
              "      (relu): ReLU(inplace=True)\n",
              "      (downsample): Sequential(\n",
              "        (0): Conv2d(1024, 2048, kernel_size=(1, 1), stride=(2, 2), bias=False)\n",
              "        (1): BatchNorm2d(2048, eps=1e-05, momentum=0.1, affine=True, track_running_stats=True)\n",
              "      )\n",
              "    )\n",
              "    (1): Bottleneck(\n",
              "      (conv1): Conv2d(2048, 512, kernel_size=(1, 1), stride=(1, 1), bias=False)\n",
              "      (bn1): BatchNorm2d(512, eps=1e-05, momentum=0.1, affine=True, track_running_stats=True)\n",
              "      (conv2): Conv2d(512, 512, kernel_size=(3, 3), stride=(1, 1), padding=(1, 1), bias=False)\n",
              "      (bn2): BatchNorm2d(512, eps=1e-05, momentum=0.1, affine=True, track_running_stats=True)\n",
              "      (conv3): Conv2d(512, 2048, kernel_size=(1, 1), stride=(1, 1), bias=False)\n",
              "      (bn3): BatchNorm2d(2048, eps=1e-05, momentum=0.1, affine=True, track_running_stats=True)\n",
              "      (relu): ReLU(inplace=True)\n",
              "    )\n",
              "    (2): Bottleneck(\n",
              "      (conv1): Conv2d(2048, 512, kernel_size=(1, 1), stride=(1, 1), bias=False)\n",
              "      (bn1): BatchNorm2d(512, eps=1e-05, momentum=0.1, affine=True, track_running_stats=True)\n",
              "      (conv2): Conv2d(512, 512, kernel_size=(3, 3), stride=(1, 1), padding=(1, 1), bias=False)\n",
              "      (bn2): BatchNorm2d(512, eps=1e-05, momentum=0.1, affine=True, track_running_stats=True)\n",
              "      (conv3): Conv2d(512, 2048, kernel_size=(1, 1), stride=(1, 1), bias=False)\n",
              "      (bn3): BatchNorm2d(2048, eps=1e-05, momentum=0.1, affine=True, track_running_stats=True)\n",
              "      (relu): ReLU(inplace=True)\n",
              "    )\n",
              "  )\n",
              "  (avgpool): AdaptiveAvgPool2d(output_size=(1, 1))\n",
              "  (fc): Linear(in_features=2048, out_features=2, bias=True)\n",
              ")"
            ]
          },
          "metadata": {},
          "execution_count": 12
        }
      ],
      "source": [
        "resnet50_model.eval()"
      ]
    },
    {
      "cell_type": "code",
      "execution_count": 13,
      "metadata": {
        "colab": {
          "base_uri": "https://localhost:8080/"
        },
        "id": "DxbvJyTAxC5z",
        "outputId": "48dd1ca2-8229-482d-ca3d-1005704769f1"
      },
      "outputs": [
        {
          "output_type": "execute_result",
          "data": {
            "text/plain": [
              "ResNet(\n",
              "  (conv1): Conv2d(3, 64, kernel_size=(7, 7), stride=(2, 2), padding=(3, 3), bias=False)\n",
              "  (bn1): BatchNorm2d(64, eps=1e-05, momentum=0.1, affine=True, track_running_stats=True)\n",
              "  (relu): ReLU(inplace=True)\n",
              "  (maxpool): MaxPool2d(kernel_size=3, stride=2, padding=1, dilation=1, ceil_mode=False)\n",
              "  (layer1): Sequential(\n",
              "    (0): Bottleneck(\n",
              "      (conv1): Conv2d(64, 64, kernel_size=(1, 1), stride=(1, 1), bias=False)\n",
              "      (bn1): BatchNorm2d(64, eps=1e-05, momentum=0.1, affine=True, track_running_stats=True)\n",
              "      (conv2): Conv2d(64, 64, kernel_size=(3, 3), stride=(1, 1), padding=(1, 1), bias=False)\n",
              "      (bn2): BatchNorm2d(64, eps=1e-05, momentum=0.1, affine=True, track_running_stats=True)\n",
              "      (conv3): Conv2d(64, 256, kernel_size=(1, 1), stride=(1, 1), bias=False)\n",
              "      (bn3): BatchNorm2d(256, eps=1e-05, momentum=0.1, affine=True, track_running_stats=True)\n",
              "      (relu): ReLU(inplace=True)\n",
              "      (downsample): Sequential(\n",
              "        (0): Conv2d(64, 256, kernel_size=(1, 1), stride=(1, 1), bias=False)\n",
              "        (1): BatchNorm2d(256, eps=1e-05, momentum=0.1, affine=True, track_running_stats=True)\n",
              "      )\n",
              "    )\n",
              "    (1): Bottleneck(\n",
              "      (conv1): Conv2d(256, 64, kernel_size=(1, 1), stride=(1, 1), bias=False)\n",
              "      (bn1): BatchNorm2d(64, eps=1e-05, momentum=0.1, affine=True, track_running_stats=True)\n",
              "      (conv2): Conv2d(64, 64, kernel_size=(3, 3), stride=(1, 1), padding=(1, 1), bias=False)\n",
              "      (bn2): BatchNorm2d(64, eps=1e-05, momentum=0.1, affine=True, track_running_stats=True)\n",
              "      (conv3): Conv2d(64, 256, kernel_size=(1, 1), stride=(1, 1), bias=False)\n",
              "      (bn3): BatchNorm2d(256, eps=1e-05, momentum=0.1, affine=True, track_running_stats=True)\n",
              "      (relu): ReLU(inplace=True)\n",
              "    )\n",
              "    (2): Bottleneck(\n",
              "      (conv1): Conv2d(256, 64, kernel_size=(1, 1), stride=(1, 1), bias=False)\n",
              "      (bn1): BatchNorm2d(64, eps=1e-05, momentum=0.1, affine=True, track_running_stats=True)\n",
              "      (conv2): Conv2d(64, 64, kernel_size=(3, 3), stride=(1, 1), padding=(1, 1), bias=False)\n",
              "      (bn2): BatchNorm2d(64, eps=1e-05, momentum=0.1, affine=True, track_running_stats=True)\n",
              "      (conv3): Conv2d(64, 256, kernel_size=(1, 1), stride=(1, 1), bias=False)\n",
              "      (bn3): BatchNorm2d(256, eps=1e-05, momentum=0.1, affine=True, track_running_stats=True)\n",
              "      (relu): ReLU(inplace=True)\n",
              "    )\n",
              "  )\n",
              "  (layer2): Sequential(\n",
              "    (0): Bottleneck(\n",
              "      (conv1): Conv2d(256, 128, kernel_size=(1, 1), stride=(1, 1), bias=False)\n",
              "      (bn1): BatchNorm2d(128, eps=1e-05, momentum=0.1, affine=True, track_running_stats=True)\n",
              "      (conv2): Conv2d(128, 128, kernel_size=(3, 3), stride=(2, 2), padding=(1, 1), bias=False)\n",
              "      (bn2): BatchNorm2d(128, eps=1e-05, momentum=0.1, affine=True, track_running_stats=True)\n",
              "      (conv3): Conv2d(128, 512, kernel_size=(1, 1), stride=(1, 1), bias=False)\n",
              "      (bn3): BatchNorm2d(512, eps=1e-05, momentum=0.1, affine=True, track_running_stats=True)\n",
              "      (relu): ReLU(inplace=True)\n",
              "      (downsample): Sequential(\n",
              "        (0): Conv2d(256, 512, kernel_size=(1, 1), stride=(2, 2), bias=False)\n",
              "        (1): BatchNorm2d(512, eps=1e-05, momentum=0.1, affine=True, track_running_stats=True)\n",
              "      )\n",
              "    )\n",
              "    (1): Bottleneck(\n",
              "      (conv1): Conv2d(512, 128, kernel_size=(1, 1), stride=(1, 1), bias=False)\n",
              "      (bn1): BatchNorm2d(128, eps=1e-05, momentum=0.1, affine=True, track_running_stats=True)\n",
              "      (conv2): Conv2d(128, 128, kernel_size=(3, 3), stride=(1, 1), padding=(1, 1), bias=False)\n",
              "      (bn2): BatchNorm2d(128, eps=1e-05, momentum=0.1, affine=True, track_running_stats=True)\n",
              "      (conv3): Conv2d(128, 512, kernel_size=(1, 1), stride=(1, 1), bias=False)\n",
              "      (bn3): BatchNorm2d(512, eps=1e-05, momentum=0.1, affine=True, track_running_stats=True)\n",
              "      (relu): ReLU(inplace=True)\n",
              "    )\n",
              "    (2): Bottleneck(\n",
              "      (conv1): Conv2d(512, 128, kernel_size=(1, 1), stride=(1, 1), bias=False)\n",
              "      (bn1): BatchNorm2d(128, eps=1e-05, momentum=0.1, affine=True, track_running_stats=True)\n",
              "      (conv2): Conv2d(128, 128, kernel_size=(3, 3), stride=(1, 1), padding=(1, 1), bias=False)\n",
              "      (bn2): BatchNorm2d(128, eps=1e-05, momentum=0.1, affine=True, track_running_stats=True)\n",
              "      (conv3): Conv2d(128, 512, kernel_size=(1, 1), stride=(1, 1), bias=False)\n",
              "      (bn3): BatchNorm2d(512, eps=1e-05, momentum=0.1, affine=True, track_running_stats=True)\n",
              "      (relu): ReLU(inplace=True)\n",
              "    )\n",
              "    (3): Bottleneck(\n",
              "      (conv1): Conv2d(512, 128, kernel_size=(1, 1), stride=(1, 1), bias=False)\n",
              "      (bn1): BatchNorm2d(128, eps=1e-05, momentum=0.1, affine=True, track_running_stats=True)\n",
              "      (conv2): Conv2d(128, 128, kernel_size=(3, 3), stride=(1, 1), padding=(1, 1), bias=False)\n",
              "      (bn2): BatchNorm2d(128, eps=1e-05, momentum=0.1, affine=True, track_running_stats=True)\n",
              "      (conv3): Conv2d(128, 512, kernel_size=(1, 1), stride=(1, 1), bias=False)\n",
              "      (bn3): BatchNorm2d(512, eps=1e-05, momentum=0.1, affine=True, track_running_stats=True)\n",
              "      (relu): ReLU(inplace=True)\n",
              "    )\n",
              "  )\n",
              "  (layer3): Sequential(\n",
              "    (0): Bottleneck(\n",
              "      (conv1): Conv2d(512, 256, kernel_size=(1, 1), stride=(1, 1), bias=False)\n",
              "      (bn1): BatchNorm2d(256, eps=1e-05, momentum=0.1, affine=True, track_running_stats=True)\n",
              "      (conv2): Conv2d(256, 256, kernel_size=(3, 3), stride=(2, 2), padding=(1, 1), bias=False)\n",
              "      (bn2): BatchNorm2d(256, eps=1e-05, momentum=0.1, affine=True, track_running_stats=True)\n",
              "      (conv3): Conv2d(256, 1024, kernel_size=(1, 1), stride=(1, 1), bias=False)\n",
              "      (bn3): BatchNorm2d(1024, eps=1e-05, momentum=0.1, affine=True, track_running_stats=True)\n",
              "      (relu): ReLU(inplace=True)\n",
              "      (downsample): Sequential(\n",
              "        (0): Conv2d(512, 1024, kernel_size=(1, 1), stride=(2, 2), bias=False)\n",
              "        (1): BatchNorm2d(1024, eps=1e-05, momentum=0.1, affine=True, track_running_stats=True)\n",
              "      )\n",
              "    )\n",
              "    (1): Bottleneck(\n",
              "      (conv1): Conv2d(1024, 256, kernel_size=(1, 1), stride=(1, 1), bias=False)\n",
              "      (bn1): BatchNorm2d(256, eps=1e-05, momentum=0.1, affine=True, track_running_stats=True)\n",
              "      (conv2): Conv2d(256, 256, kernel_size=(3, 3), stride=(1, 1), padding=(1, 1), bias=False)\n",
              "      (bn2): BatchNorm2d(256, eps=1e-05, momentum=0.1, affine=True, track_running_stats=True)\n",
              "      (conv3): Conv2d(256, 1024, kernel_size=(1, 1), stride=(1, 1), bias=False)\n",
              "      (bn3): BatchNorm2d(1024, eps=1e-05, momentum=0.1, affine=True, track_running_stats=True)\n",
              "      (relu): ReLU(inplace=True)\n",
              "    )\n",
              "    (2): Bottleneck(\n",
              "      (conv1): Conv2d(1024, 256, kernel_size=(1, 1), stride=(1, 1), bias=False)\n",
              "      (bn1): BatchNorm2d(256, eps=1e-05, momentum=0.1, affine=True, track_running_stats=True)\n",
              "      (conv2): Conv2d(256, 256, kernel_size=(3, 3), stride=(1, 1), padding=(1, 1), bias=False)\n",
              "      (bn2): BatchNorm2d(256, eps=1e-05, momentum=0.1, affine=True, track_running_stats=True)\n",
              "      (conv3): Conv2d(256, 1024, kernel_size=(1, 1), stride=(1, 1), bias=False)\n",
              "      (bn3): BatchNorm2d(1024, eps=1e-05, momentum=0.1, affine=True, track_running_stats=True)\n",
              "      (relu): ReLU(inplace=True)\n",
              "    )\n",
              "    (3): Bottleneck(\n",
              "      (conv1): Conv2d(1024, 256, kernel_size=(1, 1), stride=(1, 1), bias=False)\n",
              "      (bn1): BatchNorm2d(256, eps=1e-05, momentum=0.1, affine=True, track_running_stats=True)\n",
              "      (conv2): Conv2d(256, 256, kernel_size=(3, 3), stride=(1, 1), padding=(1, 1), bias=False)\n",
              "      (bn2): BatchNorm2d(256, eps=1e-05, momentum=0.1, affine=True, track_running_stats=True)\n",
              "      (conv3): Conv2d(256, 1024, kernel_size=(1, 1), stride=(1, 1), bias=False)\n",
              "      (bn3): BatchNorm2d(1024, eps=1e-05, momentum=0.1, affine=True, track_running_stats=True)\n",
              "      (relu): ReLU(inplace=True)\n",
              "    )\n",
              "    (4): Bottleneck(\n",
              "      (conv1): Conv2d(1024, 256, kernel_size=(1, 1), stride=(1, 1), bias=False)\n",
              "      (bn1): BatchNorm2d(256, eps=1e-05, momentum=0.1, affine=True, track_running_stats=True)\n",
              "      (conv2): Conv2d(256, 256, kernel_size=(3, 3), stride=(1, 1), padding=(1, 1), bias=False)\n",
              "      (bn2): BatchNorm2d(256, eps=1e-05, momentum=0.1, affine=True, track_running_stats=True)\n",
              "      (conv3): Conv2d(256, 1024, kernel_size=(1, 1), stride=(1, 1), bias=False)\n",
              "      (bn3): BatchNorm2d(1024, eps=1e-05, momentum=0.1, affine=True, track_running_stats=True)\n",
              "      (relu): ReLU(inplace=True)\n",
              "    )\n",
              "    (5): Bottleneck(\n",
              "      (conv1): Conv2d(1024, 256, kernel_size=(1, 1), stride=(1, 1), bias=False)\n",
              "      (bn1): BatchNorm2d(256, eps=1e-05, momentum=0.1, affine=True, track_running_stats=True)\n",
              "      (conv2): Conv2d(256, 256, kernel_size=(3, 3), stride=(1, 1), padding=(1, 1), bias=False)\n",
              "      (bn2): BatchNorm2d(256, eps=1e-05, momentum=0.1, affine=True, track_running_stats=True)\n",
              "      (conv3): Conv2d(256, 1024, kernel_size=(1, 1), stride=(1, 1), bias=False)\n",
              "      (bn3): BatchNorm2d(1024, eps=1e-05, momentum=0.1, affine=True, track_running_stats=True)\n",
              "      (relu): ReLU(inplace=True)\n",
              "    )\n",
              "  )\n",
              "  (layer4): Sequential(\n",
              "    (0): Bottleneck(\n",
              "      (conv1): Conv2d(1024, 512, kernel_size=(1, 1), stride=(1, 1), bias=False)\n",
              "      (bn1): BatchNorm2d(512, eps=1e-05, momentum=0.1, affine=True, track_running_stats=True)\n",
              "      (conv2): Conv2d(512, 512, kernel_size=(3, 3), stride=(2, 2), padding=(1, 1), bias=False)\n",
              "      (bn2): BatchNorm2d(512, eps=1e-05, momentum=0.1, affine=True, track_running_stats=True)\n",
              "      (conv3): Conv2d(512, 2048, kernel_size=(1, 1), stride=(1, 1), bias=False)\n",
              "      (bn3): BatchNorm2d(2048, eps=1e-05, momentum=0.1, affine=True, track_running_stats=True)\n",
              "      (relu): ReLU(inplace=True)\n",
              "      (downsample): Sequential(\n",
              "        (0): Conv2d(1024, 2048, kernel_size=(1, 1), stride=(2, 2), bias=False)\n",
              "        (1): BatchNorm2d(2048, eps=1e-05, momentum=0.1, affine=True, track_running_stats=True)\n",
              "      )\n",
              "    )\n",
              "    (1): Bottleneck(\n",
              "      (conv1): Conv2d(2048, 512, kernel_size=(1, 1), stride=(1, 1), bias=False)\n",
              "      (bn1): BatchNorm2d(512, eps=1e-05, momentum=0.1, affine=True, track_running_stats=True)\n",
              "      (conv2): Conv2d(512, 512, kernel_size=(3, 3), stride=(1, 1), padding=(1, 1), bias=False)\n",
              "      (bn2): BatchNorm2d(512, eps=1e-05, momentum=0.1, affine=True, track_running_stats=True)\n",
              "      (conv3): Conv2d(512, 2048, kernel_size=(1, 1), stride=(1, 1), bias=False)\n",
              "      (bn3): BatchNorm2d(2048, eps=1e-05, momentum=0.1, affine=True, track_running_stats=True)\n",
              "      (relu): ReLU(inplace=True)\n",
              "    )\n",
              "    (2): Bottleneck(\n",
              "      (conv1): Conv2d(2048, 512, kernel_size=(1, 1), stride=(1, 1), bias=False)\n",
              "      (bn1): BatchNorm2d(512, eps=1e-05, momentum=0.1, affine=True, track_running_stats=True)\n",
              "      (conv2): Conv2d(512, 512, kernel_size=(3, 3), stride=(1, 1), padding=(1, 1), bias=False)\n",
              "      (bn2): BatchNorm2d(512, eps=1e-05, momentum=0.1, affine=True, track_running_stats=True)\n",
              "      (conv3): Conv2d(512, 2048, kernel_size=(1, 1), stride=(1, 1), bias=False)\n",
              "      (bn3): BatchNorm2d(2048, eps=1e-05, momentum=0.1, affine=True, track_running_stats=True)\n",
              "      (relu): ReLU(inplace=True)\n",
              "    )\n",
              "  )\n",
              "  (avgpool): AdaptiveAvgPool2d(output_size=(1, 1))\n",
              "  (fc): Linear(in_features=2048, out_features=2, bias=True)\n",
              ")"
            ]
          },
          "metadata": {},
          "execution_count": 13
        }
      ],
      "source": [
        "resnet50_model.to(device)"
      ]
    },
    {
      "cell_type": "code",
      "execution_count": 14,
      "metadata": {
        "colab": {
          "base_uri": "https://localhost:8080/"
        },
        "id": "X22me0sIxm4X",
        "outputId": "c9d7dc5a-6d00-4ddc-8a32-0989439fe033"
      },
      "outputs": [
        {
          "output_type": "execute_result",
          "data": {
            "text/plain": [
              "device(type='cuda')"
            ]
          },
          "metadata": {},
          "execution_count": 14
        }
      ],
      "source": [
        "device"
      ]
    },
    {
      "cell_type": "code",
      "execution_count": 15,
      "metadata": {
        "colab": {
          "base_uri": "https://localhost:8080/"
        },
        "id": "7Qwf82CmwepX",
        "outputId": "37d3b66f-8956-4c32-ae27-7c4ce15454b4"
      },
      "outputs": [
        {
          "output_type": "stream",
          "name": "stdout",
          "text": [
            "Epoch [1/10], Loss: 0.4235, Test Accuracy: 92.10%\n",
            "Epoch [2/10], Loss: 0.2643, Test Accuracy: 93.65%\n",
            "Epoch [3/10], Loss: 0.2053, Test Accuracy: 93.75%\n",
            "Epoch [4/10], Loss: 0.2980, Test Accuracy: 94.35%\n",
            "Epoch [5/10], Loss: 0.2247, Test Accuracy: 94.55%\n",
            "Epoch [6/10], Loss: 0.1866, Test Accuracy: 94.65%\n",
            "Epoch [7/10], Loss: 0.2058, Test Accuracy: 95.00%\n",
            "Epoch [8/10], Loss: 0.0971, Test Accuracy: 94.90%\n",
            "Epoch [9/10], Loss: 0.1542, Test Accuracy: 94.90%\n",
            "Epoch [10/10], Loss: 0.2855, Test Accuracy: 95.00%\n"
          ]
        }
      ],
      "source": [
        "criterion = nn.CrossEntropyLoss()\n",
        "optimizer = optim.SGD(resnet50_model.parameters(), lr=learning_rate)\n",
        "acc_train = []\n",
        "acc_test = []\n",
        "loss_all = []\n",
        "\n",
        "for epoch in range(num_epochs):\n",
        "    correct, total = 0, 0\n",
        "    resnet50_model.train()\n",
        "    for images, labels in airplane_or_automobile_train_loader:\n",
        "        images, labels = images.to(device), labels.to(device)\n",
        "        optimizer.zero_grad()\n",
        "        outputs = resnet50_model(images)\n",
        "        loss = criterion(outputs, labels)\n",
        "        loss.backward()\n",
        "        optimizer.step()\n",
        "        _, predicted = torch.max(outputs.data, 1)\n",
        "        total += labels.size(0)\n",
        "        correct += (predicted == labels).sum().item()\n",
        "    accuracy = correct / total\n",
        "    acc_train.append(accuracy)\n",
        "    loss_all.append(loss.item())\n",
        "\n",
        "    resnet50_model.eval()\n",
        "    correct, total = 0, 0\n",
        "    with torch.no_grad():\n",
        "        for images, labels in airplane_or_automobile_test_loader:\n",
        "            images, labels = images.to(device), labels.to(device)\n",
        "            outputs = resnet50_model(images)\n",
        "            _, predicted = torch.max(outputs.data, 1)\n",
        "            total += labels.size(0)\n",
        "            correct += (predicted == labels).sum().item()\n",
        "\n",
        "    accuracy = correct / total\n",
        "    acc_test.append(accuracy)\n",
        "    print(f'Epoch [{epoch+1}/{num_epochs}], Loss: {loss.item():.4f}, Test Accuracy: {100 * accuracy:.2f}%')"
      ]
    },
    {
      "cell_type": "code",
      "source": [
        "plt.plot(range(1, 11), acc_train[0:10], label='Train Accuracy')\n",
        "plt.xlabel('Epoch')\n",
        "plt.ylabel('Accuracy')\n",
        "plt.title('Train Accuracy Over Epochs')\n",
        "plt.legend()\n",
        "plt.show()"
      ],
      "metadata": {
        "colab": {
          "base_uri": "https://localhost:8080/",
          "height": 472
        },
        "id": "LYhgUbhRMSdu",
        "outputId": "849ad01c-630b-4ecb-ba0e-db5fa7bc4498"
      },
      "execution_count": 44,
      "outputs": [
        {
          "output_type": "display_data",
          "data": {
            "text/plain": [
              "<Figure size 640x480 with 1 Axes>"
            ],
            "image/png": "[encoded data removed]"
          },
          "metadata": {}
        }
      ]
    },
    {
      "cell_type": "code",
      "source": [
        "plt.plot(range(1, 10), loss_all[0:9], label='Loss')\n",
        "plt.xlabel('Epoch')\n",
        "plt.ylabel('Loss')\n",
        "plt.title('Loss Over Epochs')\n",
        "plt.legend()\n",
        "plt.show()"
      ],
      "metadata": {
        "colab": {
          "base_uri": "https://localhost:8080/",
          "height": 472
        },
        "id": "dewOHpTNN0tz",
        "outputId": "8b7d5258-0c72-4883-c7eb-81fcfedf2acf"
      },
      "execution_count": 45,
      "outputs": [
        {
          "output_type": "display_data",
          "data": {
            "text/plain": [
              "<Figure size 640x480 with 1 Axes>"
            ],
            "image/png": "[encoded data removed]"
          },
          "metadata": {}
        }
      ]
    },
    {
      "cell_type": "markdown",
      "source": [
        "# part 2"
      ],
      "metadata": {
        "id": "glvcsEf_dSAv"
      }
    },
    {
      "cell_type": "code",
      "execution_count": 16,
      "metadata": {
        "id": "MV4_EuH-MwjY"
      },
      "outputs": [],
      "source": [
        "import torch\n",
        "import torch.nn as nn\n",
        "import torch.optim as optim\n",
        "from torch.utils.data import DataLoader\n",
        "from torchvision import transforms\n",
        "from torchvision.datasets import CIFAR10\n",
        "from torch.nn.functional import pairwise_distance\n",
        "import matplotlib.pyplot as plt"
      ]
    },
    {
      "cell_type": "code",
      "source": [
        "resnet50_model = torch.hub.load('pytorch/vision:v0.10.0', 'resnet50', pretrained=True)\n",
        "torch.manual_seed(42)\n",
        "torch.cuda.manual_seed(42)\n",
        "\n",
        "resnet50_model.fc = torch.nn.Linear(in_features=2048, out_features=2, bias=True).to(device)\n",
        "resnet50_model.to(device)"
      ],
      "metadata": {
        "colab": {
          "base_uri": "https://localhost:8080/"
        },
        "id": "PdTopd3wnlEs",
        "outputId": "96865cfb-3c8a-4e01-ca4a-f61fd74ec8a1"
      },
      "execution_count": 7,
      "outputs": [
        {
          "output_type": "stream",
          "name": "stderr",
          "text": [
            "Downloading: \"https://github.com/pytorch/vision/zipball/v0.10.0\" to /root/.cache/torch/hub/v0.10.0.zip\n",
            "/usr/local/lib/python3.10/dist-packages/torchvision/models/_utils.py:208: UserWarning: The parameter 'pretrained' is deprecated since 0.13 and may be removed in the future, please use 'weights' instead.\n",
            "  warnings.warn(\n",
            "/usr/local/lib/python3.10/dist-packages/torchvision/models/_utils.py:223: UserWarning: Arguments other than a weight enum or `None` for 'weights' are deprecated since 0.13 and may be removed in the future. The current behavior is equivalent to passing `weights=ResNet50_Weights.IMAGENET1K_V1`. You can also use `weights=ResNet50_Weights.DEFAULT` to get the most up-to-date weights.\n",
            "  warnings.warn(msg)\n",
            "Downloading: \"https://download.pytorch.org/models/resnet50-0676ba61.pth\" to /root/.cache/torch/hub/checkpoints/resnet50-0676ba61.pth\n",
            "100%|██████████| 97.8M/97.8M [00:00<00:00, 157MB/s]\n"
          ]
        },
        {
          "output_type": "execute_result",
          "data": {
            "text/plain": [
              "ResNet(\n",
              "  (conv1): Conv2d(3, 64, kernel_size=(7, 7), stride=(2, 2), padding=(3, 3), bias=False)\n",
              "  (bn1): BatchNorm2d(64, eps=1e-05, momentum=0.1, affine=True, track_running_stats=True)\n",
              "  (relu): ReLU(inplace=True)\n",
              "  (maxpool): MaxPool2d(kernel_size=3, stride=2, padding=1, dilation=1, ceil_mode=False)\n",
              "  (layer1): Sequential(\n",
              "    (0): Bottleneck(\n",
              "      (conv1): Conv2d(64, 64, kernel_size=(1, 1), stride=(1, 1), bias=False)\n",
              "      (bn1): BatchNorm2d(64, eps=1e-05, momentum=0.1, affine=True, track_running_stats=True)\n",
              "      (conv2): Conv2d(64, 64, kernel_size=(3, 3), stride=(1, 1), padding=(1, 1), bias=False)\n",
              "      (bn2): BatchNorm2d(64, eps=1e-05, momentum=0.1, affine=True, track_running_stats=True)\n",
              "      (conv3): Conv2d(64, 256, kernel_size=(1, 1), stride=(1, 1), bias=False)\n",
              "      (bn3): BatchNorm2d(256, eps=1e-05, momentum=0.1, affine=True, track_running_stats=True)\n",
              "      (relu): ReLU(inplace=True)\n",
              "      (downsample): Sequential(\n",
              "        (0): Conv2d(64, 256, kernel_size=(1, 1), stride=(1, 1), bias=False)\n",
              "        (1): BatchNorm2d(256, eps=1e-05, momentum=0.1, affine=True, track_running_stats=True)\n",
              "      )\n",
              "    )\n",
              "    (1): Bottleneck(\n",
              "      (conv1): Conv2d(256, 64, kernel_size=(1, 1), stride=(1, 1), bias=False)\n",
              "      (bn1): BatchNorm2d(64, eps=1e-05, momentum=0.1, affine=True, track_running_stats=True)\n",
              "      (conv2): Conv2d(64, 64, kernel_size=(3, 3), stride=(1, 1), padding=(1, 1), bias=False)\n",
              "      (bn2): BatchNorm2d(64, eps=1e-05, momentum=0.1, affine=True, track_running_stats=True)\n",
              "      (conv3): Conv2d(64, 256, kernel_size=(1, 1), stride=(1, 1), bias=False)\n",
              "      (bn3): BatchNorm2d(256, eps=1e-05, momentum=0.1, affine=True, track_running_stats=True)\n",
              "      (relu): ReLU(inplace=True)\n",
              "    )\n",
              "    (2): Bottleneck(\n",
              "      (conv1): Conv2d(256, 64, kernel_size=(1, 1), stride=(1, 1), bias=False)\n",
              "      (bn1): BatchNorm2d(64, eps=1e-05, momentum=0.1, affine=True, track_running_stats=True)\n",
              "      (conv2): Conv2d(64, 64, kernel_size=(3, 3), stride=(1, 1), padding=(1, 1), bias=False)\n",
              "      (bn2): BatchNorm2d(64, eps=1e-05, momentum=0.1, affine=True, track_running_stats=True)\n",
              "      (conv3): Conv2d(64, 256, kernel_size=(1, 1), stride=(1, 1), bias=False)\n",
              "      (bn3): BatchNorm2d(256, eps=1e-05, momentum=0.1, affine=True, track_running_stats=True)\n",
              "      (relu): ReLU(inplace=True)\n",
              "    )\n",
              "  )\n",
              "  (layer2): Sequential(\n",
              "    (0): Bottleneck(\n",
              "      (conv1): Conv2d(256, 128, kernel_size=(1, 1), stride=(1, 1), bias=False)\n",
              "      (bn1): BatchNorm2d(128, eps=1e-05, momentum=0.1, affine=True, track_running_stats=True)\n",
              "      (conv2): Conv2d(128, 128, kernel_size=(3, 3), stride=(2, 2), padding=(1, 1), bias=False)\n",
              "      (bn2): BatchNorm2d(128, eps=1e-05, momentum=0.1, affine=True, track_running_stats=True)\n",
              "      (conv3): Conv2d(128, 512, kernel_size=(1, 1), stride=(1, 1), bias=False)\n",
              "      (bn3): BatchNorm2d(512, eps=1e-05, momentum=0.1, affine=True, track_running_stats=True)\n",
              "      (relu): ReLU(inplace=True)\n",
              "      (downsample): Sequential(\n",
              "        (0): Conv2d(256, 512, kernel_size=(1, 1), stride=(2, 2), bias=False)\n",
              "        (1): BatchNorm2d(512, eps=1e-05, momentum=0.1, affine=True, track_running_stats=True)\n",
              "      )\n",
              "    )\n",
              "    (1): Bottleneck(\n",
              "      (conv1): Conv2d(512, 128, kernel_size=(1, 1), stride=(1, 1), bias=False)\n",
              "      (bn1): BatchNorm2d(128, eps=1e-05, momentum=0.1, affine=True, track_running_stats=True)\n",
              "      (conv2): Conv2d(128, 128, kernel_size=(3, 3), stride=(1, 1), padding=(1, 1), bias=False)\n",
              "      (bn2): BatchNorm2d(128, eps=1e-05, momentum=0.1, affine=True, track_running_stats=True)\n",
              "      (conv3): Conv2d(128, 512, kernel_size=(1, 1), stride=(1, 1), bias=False)\n",
              "      (bn3): BatchNorm2d(512, eps=1e-05, momentum=0.1, affine=True, track_running_stats=True)\n",
              "      (relu): ReLU(inplace=True)\n",
              "    )\n",
              "    (2): Bottleneck(\n",
              "      (conv1): Conv2d(512, 128, kernel_size=(1, 1), stride=(1, 1), bias=False)\n",
              "      (bn1): BatchNorm2d(128, eps=1e-05, momentum=0.1, affine=True, track_running_stats=True)\n",
              "      (conv2): Conv2d(128, 128, kernel_size=(3, 3), stride=(1, 1), padding=(1, 1), bias=False)\n",
              "      (bn2): BatchNorm2d(128, eps=1e-05, momentum=0.1, affine=True, track_running_stats=True)\n",
              "      (conv3): Conv2d(128, 512, kernel_size=(1, 1), stride=(1, 1), bias=False)\n",
              "      (bn3): BatchNorm2d(512, eps=1e-05, momentum=0.1, affine=True, track_running_stats=True)\n",
              "      (relu): ReLU(inplace=True)\n",
              "    )\n",
              "    (3): Bottleneck(\n",
              "      (conv1): Conv2d(512, 128, kernel_size=(1, 1), stride=(1, 1), bias=False)\n",
              "      (bn1): BatchNorm2d(128, eps=1e-05, momentum=0.1, affine=True, track_running_stats=True)\n",
              "      (conv2): Conv2d(128, 128, kernel_size=(3, 3), stride=(1, 1), padding=(1, 1), bias=False)\n",
              "      (bn2): BatchNorm2d(128, eps=1e-05, momentum=0.1, affine=True, track_running_stats=True)\n",
              "      (conv3): Conv2d(128, 512, kernel_size=(1, 1), stride=(1, 1), bias=False)\n",
              "      (bn3): BatchNorm2d(512, eps=1e-05, momentum=0.1, affine=True, track_running_stats=True)\n",
              "      (relu): ReLU(inplace=True)\n",
              "    )\n",
              "  )\n",
              "  (layer3): Sequential(\n",
              "    (0): Bottleneck(\n",
              "      (conv1): Conv2d(512, 256, kernel_size=(1, 1), stride=(1, 1), bias=False)\n",
              "      (bn1): BatchNorm2d(256, eps=1e-05, momentum=0.1, affine=True, track_running_stats=True)\n",
              "      (conv2): Conv2d(256, 256, kernel_size=(3, 3), stride=(2, 2), padding=(1, 1), bias=False)\n",
              "      (bn2): BatchNorm2d(256, eps=1e-05, momentum=0.1, affine=True, track_running_stats=True)\n",
              "      (conv3): Conv2d(256, 1024, kernel_size=(1, 1), stride=(1, 1), bias=False)\n",
              "      (bn3): BatchNorm2d(1024, eps=1e-05, momentum=0.1, affine=True, track_running_stats=True)\n",
              "      (relu): ReLU(inplace=True)\n",
              "      (downsample): Sequential(\n",
              "        (0): Conv2d(512, 1024, kernel_size=(1, 1), stride=(2, 2), bias=False)\n",
              "        (1): BatchNorm2d(1024, eps=1e-05, momentum=0.1, affine=True, track_running_stats=True)\n",
              "      )\n",
              "    )\n",
              "    (1): Bottleneck(\n",
              "      (conv1): Conv2d(1024, 256, kernel_size=(1, 1), stride=(1, 1), bias=False)\n",
              "      (bn1): BatchNorm2d(256, eps=1e-05, momentum=0.1, affine=True, track_running_stats=True)\n",
              "      (conv2): Conv2d(256, 256, kernel_size=(3, 3), stride=(1, 1), padding=(1, 1), bias=False)\n",
              "      (bn2): BatchNorm2d(256, eps=1e-05, momentum=0.1, affine=True, track_running_stats=True)\n",
              "      (conv3): Conv2d(256, 1024, kernel_size=(1, 1), stride=(1, 1), bias=False)\n",
              "      (bn3): BatchNorm2d(1024, eps=1e-05, momentum=0.1, affine=True, track_running_stats=True)\n",
              "      (relu): ReLU(inplace=True)\n",
              "    )\n",
              "    (2): Bottleneck(\n",
              "      (conv1): Conv2d(1024, 256, kernel_size=(1, 1), stride=(1, 1), bias=False)\n",
              "      (bn1): BatchNorm2d(256, eps=1e-05, momentum=0.1, affine=True, track_running_stats=True)\n",
              "      (conv2): Conv2d(256, 256, kernel_size=(3, 3), stride=(1, 1), padding=(1, 1), bias=False)\n",
              "      (bn2): BatchNorm2d(256, eps=1e-05, momentum=0.1, affine=True, track_running_stats=True)\n",
              "      (conv3): Conv2d(256, 1024, kernel_size=(1, 1), stride=(1, 1), bias=False)\n",
              "      (bn3): BatchNorm2d(1024, eps=1e-05, momentum=0.1, affine=True, track_running_stats=True)\n",
              "      (relu): ReLU(inplace=True)\n",
              "    )\n",
              "    (3): Bottleneck(\n",
              "      (conv1): Conv2d(1024, 256, kernel_size=(1, 1), stride=(1, 1), bias=False)\n",
              "      (bn1): BatchNorm2d(256, eps=1e-05, momentum=0.1, affine=True, track_running_stats=True)\n",
              "      (conv2): Conv2d(256, 256, kernel_size=(3, 3), stride=(1, 1), padding=(1, 1), bias=False)\n",
              "      (bn2): BatchNorm2d(256, eps=1e-05, momentum=0.1, affine=True, track_running_stats=True)\n",
              "      (conv3): Conv2d(256, 1024, kernel_size=(1, 1), stride=(1, 1), bias=False)\n",
              "      (bn3): BatchNorm2d(1024, eps=1e-05, momentum=0.1, affine=True, track_running_stats=True)\n",
              "      (relu): ReLU(inplace=True)\n",
              "    )\n",
              "    (4): Bottleneck(\n",
              "      (conv1): Conv2d(1024, 256, kernel_size=(1, 1), stride=(1, 1), bias=False)\n",
              "      (bn1): BatchNorm2d(256, eps=1e-05, momentum=0.1, affine=True, track_running_stats=True)\n",
              "      (conv2): Conv2d(256, 256, kernel_size=(3, 3), stride=(1, 1), padding=(1, 1), bias=False)\n",
              "      (bn2): BatchNorm2d(256, eps=1e-05, momentum=0.1, affine=True, track_running_stats=True)\n",
              "      (conv3): Conv2d(256, 1024, kernel_size=(1, 1), stride=(1, 1), bias=False)\n",
              "      (bn3): BatchNorm2d(1024, eps=1e-05, momentum=0.1, affine=True, track_running_stats=True)\n",
              "      (relu): ReLU(inplace=True)\n",
              "    )\n",
              "    (5): Bottleneck(\n",
              "      (conv1): Conv2d(1024, 256, kernel_size=(1, 1), stride=(1, 1), bias=False)\n",
              "      (bn1): BatchNorm2d(256, eps=1e-05, momentum=0.1, affine=True, track_running_stats=True)\n",
              "      (conv2): Conv2d(256, 256, kernel_size=(3, 3), stride=(1, 1), padding=(1, 1), bias=False)\n",
              "      (bn2): BatchNorm2d(256, eps=1e-05, momentum=0.1, affine=True, track_running_stats=True)\n",
              "      (conv3): Conv2d(256, 1024, kernel_size=(1, 1), stride=(1, 1), bias=False)\n",
              "      (bn3): BatchNorm2d(1024, eps=1e-05, momentum=0.1, affine=True, track_running_stats=True)\n",
              "      (relu): ReLU(inplace=True)\n",
              "    )\n",
              "  )\n",
              "  (layer4): Sequential(\n",
              "    (0): Bottleneck(\n",
              "      (conv1): Conv2d(1024, 512, kernel_size=(1, 1), stride=(1, 1), bias=False)\n",
              "      (bn1): BatchNorm2d(512, eps=1e-05, momentum=0.1, affine=True, track_running_stats=True)\n",
              "      (conv2): Conv2d(512, 512, kernel_size=(3, 3), stride=(2, 2), padding=(1, 1), bias=False)\n",
              "      (bn2): BatchNorm2d(512, eps=1e-05, momentum=0.1, affine=True, track_running_stats=True)\n",
              "      (conv3): Conv2d(512, 2048, kernel_size=(1, 1), stride=(1, 1), bias=False)\n",
              "      (bn3): BatchNorm2d(2048, eps=1e-05, momentum=0.1, affine=True, track_running_stats=True)\n",
              "      (relu): ReLU(inplace=True)\n",
              "      (downsample): Sequential(\n",
              "        (0): Conv2d(1024, 2048, kernel_size=(1, 1), stride=(2, 2), bias=False)\n",
              "        (1): BatchNorm2d(2048, eps=1e-05, momentum=0.1, affine=True, track_running_stats=True)\n",
              "      )\n",
              "    )\n",
              "    (1): Bottleneck(\n",
              "      (conv1): Conv2d(2048, 512, kernel_size=(1, 1), stride=(1, 1), bias=False)\n",
              "      (bn1): BatchNorm2d(512, eps=1e-05, momentum=0.1, affine=True, track_running_stats=True)\n",
              "      (conv2): Conv2d(512, 512, kernel_size=(3, 3), stride=(1, 1), padding=(1, 1), bias=False)\n",
              "      (bn2): BatchNorm2d(512, eps=1e-05, momentum=0.1, affine=True, track_running_stats=True)\n",
              "      (conv3): Conv2d(512, 2048, kernel_size=(1, 1), stride=(1, 1), bias=False)\n",
              "      (bn3): BatchNorm2d(2048, eps=1e-05, momentum=0.1, affine=True, track_running_stats=True)\n",
              "      (relu): ReLU(inplace=True)\n",
              "    )\n",
              "    (2): Bottleneck(\n",
              "      (conv1): Conv2d(2048, 512, kernel_size=(1, 1), stride=(1, 1), bias=False)\n",
              "      (bn1): BatchNorm2d(512, eps=1e-05, momentum=0.1, affine=True, track_running_stats=True)\n",
              "      (conv2): Conv2d(512, 512, kernel_size=(3, 3), stride=(1, 1), padding=(1, 1), bias=False)\n",
              "      (bn2): BatchNorm2d(512, eps=1e-05, momentum=0.1, affine=True, track_running_stats=True)\n",
              "      (conv3): Conv2d(512, 2048, kernel_size=(1, 1), stride=(1, 1), bias=False)\n",
              "      (bn3): BatchNorm2d(2048, eps=1e-05, momentum=0.1, affine=True, track_running_stats=True)\n",
              "      (relu): ReLU(inplace=True)\n",
              "    )\n",
              "  )\n",
              "  (avgpool): AdaptiveAvgPool2d(output_size=(1, 1))\n",
              "  (fc): Linear(in_features=2048, out_features=2, bias=True)\n",
              ")"
            ]
          },
          "metadata": {},
          "execution_count": 7
        }
      ]
    },
    {
      "cell_type": "code",
      "execution_count": 41,
      "metadata": {
        "id": "bV1fd3d2MyTL"
      },
      "outputs": [],
      "source": [
        "class TripletLoss(nn.Module):\n",
        "    def __init__(self, margin=1.0):\n",
        "        super(TripletLoss, self).__init__()\n",
        "        self.margin = margin\n",
        "\n",
        "    def forward(self, anchor, positive, negative):\n",
        "        distance_positive = pairwise_distance(anchor, positive)\n",
        "        distance_negative = pairwise_distance(anchor, negative)\n",
        "        loss = torch.relu(distance_positive - distance_negative + self.margin)\n",
        "        return loss.mean()"
      ]
    },
    {
      "cell_type": "code",
      "execution_count": 42,
      "metadata": {
        "id": "3Cxw7-6SPvEF"
      },
      "outputs": [],
      "source": [
        "def train_triplet(model, train_loader, criterion, optimizer, device):\n",
        "    model.train()\n",
        "    running_loss = 0.0\n",
        "\n",
        "    for batch in train_loader:\n",
        "        anchor, positive, negative, _ = batch\n",
        "        anchor, positive, negative = anchor.to(device), positive.to(device), negative.to(device)\n",
        "\n",
        "        optimizer.zero_grad()\n",
        "        outputs_anchor = model(anchor)\n",
        "        outputs_positive = model(positive)\n",
        "        outputs_negative = model(negative)\n",
        "\n",
        "        loss = criterion(outputs_anchor, outputs_positive, outputs_negative)\n",
        "        loss.backward()\n",
        "        optimizer.step()\n",
        "\n",
        "        running_loss += loss.item()\n",
        "\n",
        "    return running_loss / len(train_loader)"
      ]
    },
    {
      "cell_type": "code",
      "execution_count": 43,
      "metadata": {
        "id": "NGEKAq6bQF71"
      },
      "outputs": [],
      "source": [
        "from torchvision.transforms import ToPILImage\n",
        "class CustomDataset(torch.utils.data.Dataset):\n",
        "    def __init__(self, dataset, transform=None):\n",
        "        self.dataset = dataset\n",
        "        self.transform = transform\n",
        "\n",
        "    def __getitem__(self, index):\n",
        "        anchor, anchor_label = self.dataset[index]\n",
        "\n",
        "        anchor = transforms.ToPILImage()(anchor)\n",
        "        index_new = torch.randint(len(self.dataset), size=(1,)).item()\n",
        "\n",
        "        positive, positive_label = self.dataset[index_new]\n",
        "        while positive_label != anchor_label:\n",
        "            index_new = torch.randint(len(self.dataset), size=(1,)).item()\n",
        "            positive, positive_label = self.dataset[index_new]\n",
        "\n",
        "        positive = transforms.ToPILImage()(positive)\n",
        "\n",
        "        index_new = torch.randint(len(self.dataset), size=(1,)).item()\n",
        "        negative, negative_label = self.dataset[index_new]\n",
        "        while negative_label == anchor_label:\n",
        "            index_new = torch.randint(len(self.dataset), size=(1,)).item()\n",
        "            negative, negative_label = self.dataset[index_new]\n",
        "\n",
        "        negative = transforms.ToPILImage()(negative)\n",
        "\n",
        "        if self.transform:\n",
        "            anchor = self.transform(anchor)\n",
        "            positive = self.transform(positive)\n",
        "            negative = self.transform(negative)\n",
        "\n",
        "        return anchor, positive, negative, anchor_label\n",
        "\n",
        "    def __len__(self):\n",
        "        return len(self.dataset)"
      ]
    },
    {
      "cell_type": "code",
      "execution_count": 20,
      "metadata": {
        "id": "IjqNvM71QM8s"
      },
      "outputs": [],
      "source": [
        "def train_cross_entropy(model, train_loader, criterion, optimizer, device):\n",
        "    model.train()\n",
        "    running_loss = 0.0\n",
        "    correct, total = 0, 0\n",
        "    for images, labels in train_loader:\n",
        "        images, labels = images.to(device), labels.to(device)\n",
        "\n",
        "        optimizer.zero_grad()\n",
        "        outputs = model(images)\n",
        "        loss = criterion(outputs, labels)\n",
        "        loss.backward()\n",
        "        optimizer.step()\n",
        "        _, predicted = torch.max(outputs.data, 1)\n",
        "        total += labels.size(0)\n",
        "        correct += (predicted == labels).sum().item()\n",
        "        running_loss += loss.item()\n",
        "\n",
        "    return (running_loss / len(train_loader)), (correct / total)"
      ]
    },
    {
      "cell_type": "code",
      "execution_count": 21,
      "metadata": {
        "id": "VzQj6RKWUMw1"
      },
      "outputs": [],
      "source": [
        "def evaluate(model, test_loader, device):\n",
        "    model.eval()\n",
        "    correct, total = 0, 0\n",
        "\n",
        "    with torch.no_grad():\n",
        "        for images, labels in test_loader:\n",
        "            images, labels = images.to(device), labels.to(device)\n",
        "            outputs = model(images)\n",
        "            _, predicted = torch.max(outputs.data, 1)\n",
        "            total += labels.size(0)\n",
        "            correct += (predicted == labels).sum().item()\n",
        "\n",
        "    accuracy = correct / total\n",
        "    return accuracy"
      ]
    },
    {
      "cell_type": "code",
      "execution_count": 22,
      "metadata": {
        "id": "UZ2BBdSGUYPV"
      },
      "outputs": [],
      "source": [
        "def set_fc_requires_grad(model, requires_grad):\n",
        "    for param in model.resnet50_model.fc.parameters():\n",
        "        param.requires_grad = requires_grad"
      ]
    },
    {
      "cell_type": "code",
      "execution_count": 29,
      "metadata": {
        "id": "FTrE-AWoCzEu"
      },
      "outputs": [],
      "source": [
        "device = torch.device('cuda' if torch.cuda.is_available() else 'cpu')\n",
        "num_classes = 2\n",
        "batch_size = 64\n",
        "learning_rate = 0.001\n",
        "num_epochs_triplet = 5\n",
        "num_epochs_cross_entropy = 5\n",
        "margin = 1.0"
      ]
    },
    {
      "cell_type": "code",
      "source": [
        "transform = transforms.Compose([\n",
        "    transforms.Resize((224, 224)),\n",
        "    transforms.ToTensor()\n",
        "])"
      ],
      "metadata": {
        "id": "T8Bwk1OAzYJQ"
      },
      "execution_count": 30,
      "outputs": []
    },
    {
      "cell_type": "code",
      "execution_count": 31,
      "metadata": {
        "colab": {
          "base_uri": "https://localhost:8080/"
        },
        "id": "-bpnQNvPFvuX",
        "outputId": "bc486459-8226-49a9-dac7-4f185d507951"
      },
      "outputs": [
        {
          "output_type": "stream",
          "name": "stdout",
          "text": [
            "157 32\n"
          ]
        }
      ],
      "source": [
        "airplane_or_automobile_train_dataset = filter_dataset(train_dataset, is_airplane_or_automobile)\n",
        "airplane_or_automobile_test_dataset = filter_dataset(test_dataset, is_airplane_or_automobile)\n",
        "\n",
        "airplane_or_automobile_train_loader = DataLoader(dataset=CustomDataset(airplane_or_automobile_train_dataset, transform),\n",
        "                                                  batch_size=batch_size, shuffle=True)\n",
        "airplane_or_automobile_test_loader = DataLoader(dataset=CustomDataset(airplane_or_automobile_test_dataset, transform),\n",
        "                                                 batch_size=batch_size, shuffle=False)\n",
        "print(len(airplane_or_automobile_train_loader), len(airplane_or_automobile_test_loader))"
      ]
    },
    {
      "cell_type": "code",
      "execution_count": 32,
      "metadata": {
        "colab": {
          "base_uri": "https://localhost:8080/"
        },
        "id": "8lqH8WFNKS34",
        "outputId": "3ea5990a-34e8-4ee5-da93-0f745f4f139f"
      },
      "outputs": [
        {
          "output_type": "execute_result",
          "data": {
            "text/plain": [
              "[tensor([[[[0.7647, 0.7647, 0.7647,  ..., 0.8667, 0.8667, 0.8667],\n",
              "           [0.7647, 0.7647, 0.7647,  ..., 0.8667, 0.8667, 0.8667],\n",
              "           [0.7647, 0.7647, 0.7647,  ..., 0.8667, 0.8667, 0.8667],\n",
              "           ...,\n",
              "           [0.5804, 0.5804, 0.5804,  ..., 0.4863, 0.4863, 0.4863],\n",
              "           [0.5804, 0.5804, 0.5804,  ..., 0.4863, 0.4863, 0.4863],\n",
              "           [0.5804, 0.5804, 0.5804,  ..., 0.4863, 0.4863, 0.4863]],\n",
              " \n",
              "          [[0.7882, 0.7882, 0.7882,  ..., 0.8863, 0.8863, 0.8863],\n",
              "           [0.7882, 0.7882, 0.7882,  ..., 0.8863, 0.8863, 0.8863],\n",
              "           [0.7882, 0.7882, 0.7882,  ..., 0.8863, 0.8863, 0.8863],\n",
              "           ...,\n",
              "           [0.5608, 0.5608, 0.5608,  ..., 0.4510, 0.4510, 0.4510],\n",
              "           [0.5608, 0.5608, 0.5608,  ..., 0.4510, 0.4510, 0.4510],\n",
              "           [0.5608, 0.5608, 0.5608,  ..., 0.4510, 0.4510, 0.4510]],\n",
              " \n",
              "          [[0.8784, 0.8784, 0.8784,  ..., 0.9569, 0.9569, 0.9569],\n",
              "           [0.8784, 0.8784, 0.8784,  ..., 0.9569, 0.9569, 0.9569],\n",
              "           [0.8784, 0.8784, 0.8784,  ..., 0.9569, 0.9569, 0.9569],\n",
              "           ...,\n",
              "           [0.5373, 0.5373, 0.5373,  ..., 0.4039, 0.4039, 0.4039],\n",
              "           [0.5373, 0.5373, 0.5373,  ..., 0.4039, 0.4039, 0.4039],\n",
              "           [0.5373, 0.5373, 0.5373,  ..., 0.4039, 0.4039, 0.4039]]],\n",
              " \n",
              " \n",
              "         [[[0.9059, 0.9059, 0.9059,  ..., 0.8392, 0.8392, 0.8392],\n",
              "           [0.9059, 0.9059, 0.9059,  ..., 0.8392, 0.8392, 0.8392],\n",
              "           [0.9059, 0.9059, 0.9059,  ..., 0.8392, 0.8392, 0.8392],\n",
              "           ...,\n",
              "           [0.7137, 0.7137, 0.7137,  ..., 0.7725, 0.7725, 0.7725],\n",
              "           [0.7137, 0.7137, 0.7137,  ..., 0.7725, 0.7725, 0.7725],\n",
              "           [0.7137, 0.7137, 0.7137,  ..., 0.7725, 0.7725, 0.7725]],\n",
              " \n",
              "          [[0.9333, 0.9333, 0.9333,  ..., 0.8627, 0.8627, 0.8627],\n",
              "           [0.9333, 0.9333, 0.9333,  ..., 0.8627, 0.8627, 0.8627],\n",
              "           [0.9333, 0.9333, 0.9333,  ..., 0.8627, 0.8627, 0.8627],\n",
              "           ...,\n",
              "           [0.7373, 0.7373, 0.7373,  ..., 0.7882, 0.7882, 0.7882],\n",
              "           [0.7373, 0.7373, 0.7373,  ..., 0.7882, 0.7882, 0.7882],\n",
              "           [0.7373, 0.7373, 0.7373,  ..., 0.7882, 0.7882, 0.7882]],\n",
              " \n",
              "          [[0.9765, 0.9765, 0.9765,  ..., 0.9176, 0.9176, 0.9176],\n",
              "           [0.9765, 0.9765, 0.9765,  ..., 0.9176, 0.9176, 0.9176],\n",
              "           [0.9765, 0.9765, 0.9765,  ..., 0.9176, 0.9176, 0.9176],\n",
              "           ...,\n",
              "           [0.8078, 0.8078, 0.8078,  ..., 0.8471, 0.8471, 0.8471],\n",
              "           [0.8078, 0.8078, 0.8078,  ..., 0.8471, 0.8471, 0.8471],\n",
              "           [0.8078, 0.8078, 0.8078,  ..., 0.8471, 0.8471, 0.8471]]],\n",
              " \n",
              " \n",
              "         [[[0.6235, 0.6235, 0.6235,  ..., 0.6627, 0.6627, 0.6627],\n",
              "           [0.6235, 0.6235, 0.6235,  ..., 0.6627, 0.6627, 0.6627],\n",
              "           [0.6235, 0.6235, 0.6235,  ..., 0.6627, 0.6627, 0.6627],\n",
              "           ...,\n",
              "           [0.4235, 0.4235, 0.4235,  ..., 0.5255, 0.5255, 0.5255],\n",
              "           [0.4235, 0.4235, 0.4235,  ..., 0.5255, 0.5255, 0.5255],\n",
              "           [0.4235, 0.4235, 0.4235,  ..., 0.5255, 0.5255, 0.5255]],\n",
              " \n",
              "          [[0.6510, 0.6510, 0.6510,  ..., 0.6784, 0.6784, 0.6784],\n",
              "           [0.6510, 0.6510, 0.6510,  ..., 0.6784, 0.6784, 0.6784],\n",
              "           [0.6510, 0.6510, 0.6510,  ..., 0.6784, 0.6784, 0.6784],\n",
              "           ...,\n",
              "           [0.4863, 0.4863, 0.4863,  ..., 0.5255, 0.5255, 0.5255],\n",
              "           [0.4863, 0.4863, 0.4863,  ..., 0.5255, 0.5255, 0.5255],\n",
              "           [0.4863, 0.4863, 0.4863,  ..., 0.5255, 0.5255, 0.5255]],\n",
              " \n",
              "          [[0.7137, 0.7137, 0.7137,  ..., 0.6588, 0.6588, 0.6588],\n",
              "           [0.7137, 0.7137, 0.7137,  ..., 0.6588, 0.6588, 0.6588],\n",
              "           [0.7137, 0.7137, 0.7137,  ..., 0.6588, 0.6588, 0.6588],\n",
              "           ...,\n",
              "           [0.5294, 0.5294, 0.5294,  ..., 0.5176, 0.5176, 0.5176],\n",
              "           [0.5294, 0.5294, 0.5294,  ..., 0.5176, 0.5176, 0.5176],\n",
              "           [0.5294, 0.5294, 0.5294,  ..., 0.5176, 0.5176, 0.5176]]],\n",
              " \n",
              " \n",
              "         ...,\n",
              " \n",
              " \n",
              "         [[[0.9804, 0.9804, 0.9804,  ..., 0.8941, 0.8941, 0.8941],\n",
              "           [0.9804, 0.9804, 0.9804,  ..., 0.8941, 0.8941, 0.8941],\n",
              "           [0.9804, 0.9804, 0.9804,  ..., 0.8941, 0.8941, 0.8941],\n",
              "           ...,\n",
              "           [0.2392, 0.2392, 0.2392,  ..., 0.0706, 0.0706, 0.0706],\n",
              "           [0.2392, 0.2392, 0.2392,  ..., 0.0706, 0.0706, 0.0706],\n",
              "           [0.2392, 0.2392, 0.2392,  ..., 0.0706, 0.0706, 0.0706]],\n",
              " \n",
              "          [[0.9804, 0.9804, 0.9804,  ..., 0.8706, 0.8706, 0.8706],\n",
              "           [0.9804, 0.9804, 0.9804,  ..., 0.8706, 0.8706, 0.8706],\n",
              "           [0.9804, 0.9804, 0.9804,  ..., 0.8706, 0.8706, 0.8706],\n",
              "           ...,\n",
              "           [0.3647, 0.3647, 0.3647,  ..., 0.1608, 0.1608, 0.1608],\n",
              "           [0.3647, 0.3647, 0.3647,  ..., 0.1608, 0.1608, 0.1608],\n",
              "           [0.3647, 0.3647, 0.3647,  ..., 0.1608, 0.1608, 0.1608]],\n",
              " \n",
              "          [[0.9882, 0.9882, 0.9882,  ..., 0.8784, 0.8784, 0.8784],\n",
              "           [0.9882, 0.9882, 0.9882,  ..., 0.8784, 0.8784, 0.8784],\n",
              "           [0.9882, 0.9882, 0.9882,  ..., 0.8784, 0.8784, 0.8784],\n",
              "           ...,\n",
              "           [0.4078, 0.4078, 0.4078,  ..., 0.1961, 0.1961, 0.1961],\n",
              "           [0.4078, 0.4078, 0.4078,  ..., 0.1961, 0.1961, 0.1961],\n",
              "           [0.4078, 0.4078, 0.4078,  ..., 0.1961, 0.1961, 0.1961]]],\n",
              " \n",
              " \n",
              "         [[[0.7255, 0.7255, 0.7255,  ..., 0.7176, 0.7176, 0.7176],\n",
              "           [0.7255, 0.7255, 0.7255,  ..., 0.7176, 0.7176, 0.7176],\n",
              "           [0.7255, 0.7255, 0.7255,  ..., 0.7176, 0.7176, 0.7176],\n",
              "           ...,\n",
              "           [0.8549, 0.8549, 0.8549,  ..., 0.8863, 0.8863, 0.8863],\n",
              "           [0.8549, 0.8549, 0.8549,  ..., 0.8863, 0.8863, 0.8863],\n",
              "           [0.8549, 0.8549, 0.8549,  ..., 0.8863, 0.8863, 0.8863]],\n",
              " \n",
              "          [[0.7451, 0.7451, 0.7451,  ..., 0.7137, 0.7137, 0.7137],\n",
              "           [0.7451, 0.7451, 0.7451,  ..., 0.7137, 0.7137, 0.7137],\n",
              "           [0.7451, 0.7451, 0.7451,  ..., 0.7137, 0.7137, 0.7137],\n",
              "           ...,\n",
              "           [0.8549, 0.8549, 0.8549,  ..., 0.8784, 0.8784, 0.8784],\n",
              "           [0.8549, 0.8549, 0.8549,  ..., 0.8784, 0.8784, 0.8784],\n",
              "           [0.8549, 0.8549, 0.8549,  ..., 0.8784, 0.8784, 0.8784]],\n",
              " \n",
              "          [[0.8000, 0.8000, 0.8000,  ..., 0.7804, 0.7804, 0.7804],\n",
              "           [0.8000, 0.8000, 0.8000,  ..., 0.7804, 0.7804, 0.7804],\n",
              "           [0.8000, 0.8000, 0.8000,  ..., 0.7804, 0.7804, 0.7804],\n",
              "           ...,\n",
              "           [0.8627, 0.8627, 0.8627,  ..., 0.8941, 0.8941, 0.8941],\n",
              "           [0.8627, 0.8627, 0.8627,  ..., 0.8941, 0.8941, 0.8941],\n",
              "           [0.8627, 0.8627, 0.8627,  ..., 0.8941, 0.8941, 0.8941]]],\n",
              " \n",
              " \n",
              "         [[[0.6667, 0.6667, 0.6667,  ..., 0.6588, 0.6588, 0.6588],\n",
              "           [0.6667, 0.6667, 0.6667,  ..., 0.6588, 0.6588, 0.6588],\n",
              "           [0.6667, 0.6667, 0.6667,  ..., 0.6588, 0.6588, 0.6588],\n",
              "           ...,\n",
              "           [0.2588, 0.2588, 0.2588,  ..., 0.0824, 0.0824, 0.0824],\n",
              "           [0.2588, 0.2588, 0.2588,  ..., 0.0824, 0.0824, 0.0824],\n",
              "           [0.2588, 0.2588, 0.2588,  ..., 0.0824, 0.0824, 0.0824]],\n",
              " \n",
              "          [[0.7569, 0.7569, 0.7569,  ..., 0.7176, 0.7176, 0.7176],\n",
              "           [0.7569, 0.7569, 0.7569,  ..., 0.7176, 0.7176, 0.7176],\n",
              "           [0.7569, 0.7569, 0.7569,  ..., 0.7176, 0.7176, 0.7176],\n",
              "           ...,\n",
              "           [0.3529, 0.3529, 0.3529,  ..., 0.0863, 0.0863, 0.0863],\n",
              "           [0.3529, 0.3529, 0.3529,  ..., 0.0863, 0.0863, 0.0863],\n",
              "           [0.3529, 0.3529, 0.3529,  ..., 0.0863, 0.0863, 0.0863]],\n",
              " \n",
              "          [[0.8902, 0.8902, 0.8902,  ..., 0.8549, 0.8549, 0.8549],\n",
              "           [0.8902, 0.8902, 0.8902,  ..., 0.8549, 0.8549, 0.8549],\n",
              "           [0.8902, 0.8902, 0.8902,  ..., 0.8549, 0.8549, 0.8549],\n",
              "           ...,\n",
              "           [0.3569, 0.3569, 0.3569,  ..., 0.0667, 0.0667, 0.0667],\n",
              "           [0.3569, 0.3569, 0.3569,  ..., 0.0667, 0.0667, 0.0667],\n",
              "           [0.3569, 0.3569, 0.3569,  ..., 0.0667, 0.0667, 0.0667]]]]),\n",
              " tensor([[[[0.0314, 0.0314, 0.0314,  ..., 0.0314, 0.0314, 0.0314],\n",
              "           [0.0314, 0.0314, 0.0314,  ..., 0.0314, 0.0314, 0.0314],\n",
              "           [0.0314, 0.0314, 0.0314,  ..., 0.0314, 0.0314, 0.0314],\n",
              "           ...,\n",
              "           [0.1412, 0.1412, 0.1412,  ..., 0.1647, 0.1647, 0.1647],\n",
              "           [0.1412, 0.1412, 0.1412,  ..., 0.1647, 0.1647, 0.1647],\n",
              "           [0.1412, 0.1412, 0.1412,  ..., 0.1647, 0.1647, 0.1647]],\n",
              " \n",
              "          [[0.0314, 0.0314, 0.0314,  ..., 0.0314, 0.0314, 0.0314],\n",
              "           [0.0314, 0.0314, 0.0314,  ..., 0.0314, 0.0314, 0.0314],\n",
              "           [0.0314, 0.0314, 0.0314,  ..., 0.0314, 0.0314, 0.0314],\n",
              "           ...,\n",
              "           [0.1412, 0.1412, 0.1412,  ..., 0.1647, 0.1647, 0.1647],\n",
              "           [0.1412, 0.1412, 0.1412,  ..., 0.1647, 0.1647, 0.1647],\n",
              "           [0.1412, 0.1412, 0.1412,  ..., 0.1647, 0.1647, 0.1647]],\n",
              " \n",
              "          [[0.0314, 0.0314, 0.0314,  ..., 0.0314, 0.0314, 0.0314],\n",
              "           [0.0314, 0.0314, 0.0314,  ..., 0.0314, 0.0314, 0.0314],\n",
              "           [0.0314, 0.0314, 0.0314,  ..., 0.0314, 0.0314, 0.0314],\n",
              "           ...,\n",
              "           [0.1412, 0.1412, 0.1412,  ..., 0.1647, 0.1647, 0.1647],\n",
              "           [0.1412, 0.1412, 0.1412,  ..., 0.1647, 0.1647, 0.1647],\n",
              "           [0.1412, 0.1412, 0.1412,  ..., 0.1647, 0.1647, 0.1647]]],\n",
              " \n",
              " \n",
              "         [[[0.7059, 0.7059, 0.7059,  ..., 0.7412, 0.7412, 0.7412],\n",
              "           [0.7059, 0.7059, 0.7059,  ..., 0.7412, 0.7412, 0.7412],\n",
              "           [0.7059, 0.7059, 0.7059,  ..., 0.7412, 0.7412, 0.7412],\n",
              "           ...,\n",
              "           [0.7333, 0.7333, 0.7333,  ..., 0.6196, 0.6196, 0.6196],\n",
              "           [0.7333, 0.7333, 0.7333,  ..., 0.6196, 0.6196, 0.6196],\n",
              "           [0.7333, 0.7333, 0.7333,  ..., 0.6196, 0.6196, 0.6196]],\n",
              " \n",
              "          [[0.7333, 0.7333, 0.7333,  ..., 0.8980, 0.8980, 0.8980],\n",
              "           [0.7333, 0.7333, 0.7333,  ..., 0.8980, 0.8980, 0.8980],\n",
              "           [0.7333, 0.7333, 0.7333,  ..., 0.8980, 0.8980, 0.8980],\n",
              "           ...,\n",
              "           [0.7137, 0.7137, 0.7137,  ..., 0.6235, 0.6235, 0.6235],\n",
              "           [0.7137, 0.7137, 0.7137,  ..., 0.6235, 0.6235, 0.6235],\n",
              "           [0.7137, 0.7137, 0.7137,  ..., 0.6235, 0.6235, 0.6235]],\n",
              " \n",
              "          [[0.7059, 0.7059, 0.7059,  ..., 0.9294, 0.9294, 0.9294],\n",
              "           [0.7059, 0.7059, 0.7059,  ..., 0.9294, 0.9294, 0.9294],\n",
              "           [0.7059, 0.7059, 0.7059,  ..., 0.9294, 0.9294, 0.9294],\n",
              "           ...,\n",
              "           [0.6353, 0.6353, 0.6353,  ..., 0.5686, 0.5686, 0.5686],\n",
              "           [0.6353, 0.6353, 0.6353,  ..., 0.5686, 0.5686, 0.5686],\n",
              "           [0.6353, 0.6353, 0.6353,  ..., 0.5686, 0.5686, 0.5686]]],\n",
              " \n",
              " \n",
              "         [[[0.5333, 0.5333, 0.5333,  ..., 0.6157, 0.6157, 0.6157],\n",
              "           [0.5333, 0.5333, 0.5333,  ..., 0.6157, 0.6157, 0.6157],\n",
              "           [0.5333, 0.5333, 0.5333,  ..., 0.6157, 0.6157, 0.6157],\n",
              "           ...,\n",
              "           [0.3490, 0.3490, 0.3490,  ..., 0.3098, 0.3098, 0.3098],\n",
              "           [0.3490, 0.3490, 0.3490,  ..., 0.3098, 0.3098, 0.3098],\n",
              "           [0.3490, 0.3490, 0.3490,  ..., 0.3098, 0.3098, 0.3098]],\n",
              " \n",
              "          [[0.6941, 0.6941, 0.6941,  ..., 0.7725, 0.7725, 0.7725],\n",
              "           [0.6941, 0.6941, 0.6941,  ..., 0.7725, 0.7725, 0.7725],\n",
              "           [0.6941, 0.6941, 0.6941,  ..., 0.7725, 0.7725, 0.7725],\n",
              "           ...,\n",
              "           [0.4275, 0.4275, 0.4275,  ..., 0.3804, 0.3804, 0.3804],\n",
              "           [0.4275, 0.4275, 0.4275,  ..., 0.3804, 0.3804, 0.3804],\n",
              "           [0.4275, 0.4275, 0.4275,  ..., 0.3804, 0.3804, 0.3804]],\n",
              " \n",
              "          [[0.8549, 0.8549, 0.8549,  ..., 0.9020, 0.9020, 0.9020],\n",
              "           [0.8549, 0.8549, 0.8549,  ..., 0.9020, 0.9020, 0.9020],\n",
              "           [0.8549, 0.8549, 0.8549,  ..., 0.9020, 0.9020, 0.9020],\n",
              "           ...,\n",
              "           [0.5098, 0.5098, 0.5098,  ..., 0.4431, 0.4431, 0.4431],\n",
              "           [0.5098, 0.5098, 0.5098,  ..., 0.4431, 0.4431, 0.4431],\n",
              "           [0.5098, 0.5098, 0.5098,  ..., 0.4431, 0.4431, 0.4431]]],\n",
              " \n",
              " \n",
              "         ...,\n",
              " \n",
              " \n",
              "         [[[0.3216, 0.3216, 0.3216,  ..., 0.3373, 0.3373, 0.3373],\n",
              "           [0.3216, 0.3216, 0.3216,  ..., 0.3373, 0.3373, 0.3373],\n",
              "           [0.3216, 0.3216, 0.3216,  ..., 0.3373, 0.3373, 0.3373],\n",
              "           ...,\n",
              "           [0.3608, 0.3608, 0.3608,  ..., 0.3216, 0.3216, 0.3216],\n",
              "           [0.3608, 0.3608, 0.3608,  ..., 0.3216, 0.3216, 0.3216],\n",
              "           [0.3608, 0.3608, 0.3608,  ..., 0.3216, 0.3216, 0.3216]],\n",
              " \n",
              "          [[0.3294, 0.3294, 0.3294,  ..., 0.3529, 0.3529, 0.3529],\n",
              "           [0.3294, 0.3294, 0.3294,  ..., 0.3529, 0.3529, 0.3529],\n",
              "           [0.3294, 0.3294, 0.3294,  ..., 0.3529, 0.3529, 0.3529],\n",
              "           ...,\n",
              "           [0.3647, 0.3647, 0.3647,  ..., 0.3647, 0.3647, 0.3647],\n",
              "           [0.3647, 0.3647, 0.3647,  ..., 0.3647, 0.3647, 0.3647],\n",
              "           [0.3647, 0.3647, 0.3647,  ..., 0.3647, 0.3647, 0.3647]],\n",
              " \n",
              "          [[0.5569, 0.5569, 0.5569,  ..., 0.6706, 0.6706, 0.6706],\n",
              "           [0.5569, 0.5569, 0.5569,  ..., 0.6706, 0.6706, 0.6706],\n",
              "           [0.5569, 0.5569, 0.5569,  ..., 0.6706, 0.6706, 0.6706],\n",
              "           ...,\n",
              "           [0.4980, 0.4980, 0.4980,  ..., 0.5961, 0.5961, 0.5961],\n",
              "           [0.4980, 0.4980, 0.4980,  ..., 0.5961, 0.5961, 0.5961],\n",
              "           [0.4980, 0.4980, 0.4980,  ..., 0.5961, 0.5961, 0.5961]]],\n",
              " \n",
              " \n",
              "         [[[0.4706, 0.4706, 0.4706,  ..., 0.4706, 0.4706, 0.4706],\n",
              "           [0.4706, 0.4706, 0.4706,  ..., 0.4706, 0.4706, 0.4706],\n",
              "           [0.4706, 0.4706, 0.4706,  ..., 0.4706, 0.4706, 0.4706],\n",
              "           ...,\n",
              "           [0.6706, 0.6706, 0.6706,  ..., 0.8627, 0.8627, 0.8627],\n",
              "           [0.6706, 0.6706, 0.6706,  ..., 0.8627, 0.8627, 0.8627],\n",
              "           [0.6706, 0.6706, 0.6706,  ..., 0.8627, 0.8627, 0.8627]],\n",
              " \n",
              "          [[0.7255, 0.7255, 0.7255,  ..., 0.7569, 0.7569, 0.7569],\n",
              "           [0.7255, 0.7255, 0.7255,  ..., 0.7569, 0.7569, 0.7569],\n",
              "           [0.7255, 0.7255, 0.7255,  ..., 0.7569, 0.7569, 0.7569],\n",
              "           ...,\n",
              "           [0.8431, 0.8431, 0.8431,  ..., 0.8980, 0.8980, 0.8980],\n",
              "           [0.8431, 0.8431, 0.8431,  ..., 0.8980, 0.8980, 0.8980],\n",
              "           [0.8431, 0.8431, 0.8431,  ..., 0.8980, 0.8980, 0.8980]],\n",
              " \n",
              "          [[0.4588, 0.4588, 0.4588,  ..., 0.5059, 0.5059, 0.5059],\n",
              "           [0.4588, 0.4588, 0.4588,  ..., 0.5059, 0.5059, 0.5059],\n",
              "           [0.4588, 0.4588, 0.4588,  ..., 0.5059, 0.5059, 0.5059],\n",
              "           ...,\n",
              "           [0.0275, 0.0275, 0.0275,  ..., 0.4431, 0.4431, 0.4431],\n",
              "           [0.0275, 0.0275, 0.0275,  ..., 0.4431, 0.4431, 0.4431],\n",
              "           [0.0275, 0.0275, 0.0275,  ..., 0.4431, 0.4431, 0.4431]]],\n",
              " \n",
              " \n",
              "         [[[0.7843, 0.7843, 0.7843,  ..., 0.7922, 0.7922, 0.7922],\n",
              "           [0.7843, 0.7843, 0.7843,  ..., 0.7922, 0.7922, 0.7922],\n",
              "           [0.7843, 0.7843, 0.7843,  ..., 0.7922, 0.7922, 0.7922],\n",
              "           ...,\n",
              "           [0.7294, 0.7294, 0.7294,  ..., 0.7804, 0.7804, 0.7804],\n",
              "           [0.7294, 0.7294, 0.7294,  ..., 0.7804, 0.7804, 0.7804],\n",
              "           [0.7294, 0.7294, 0.7294,  ..., 0.7804, 0.7804, 0.7804]],\n",
              " \n",
              "          [[0.8078, 0.8078, 0.8078,  ..., 0.8431, 0.8431, 0.8431],\n",
              "           [0.8078, 0.8078, 0.8078,  ..., 0.8431, 0.8431, 0.8431],\n",
              "           [0.8078, 0.8078, 0.8078,  ..., 0.8431, 0.8431, 0.8431],\n",
              "           ...,\n",
              "           [0.7373, 0.7373, 0.7373,  ..., 0.7843, 0.7843, 0.7843],\n",
              "           [0.7373, 0.7373, 0.7373,  ..., 0.7843, 0.7843, 0.7843],\n",
              "           [0.7373, 0.7373, 0.7373,  ..., 0.7843, 0.7843, 0.7843]],\n",
              " \n",
              "          [[0.7686, 0.7686, 0.7686,  ..., 0.8392, 0.8392, 0.8392],\n",
              "           [0.7686, 0.7686, 0.7686,  ..., 0.8392, 0.8392, 0.8392],\n",
              "           [0.7686, 0.7686, 0.7686,  ..., 0.8392, 0.8392, 0.8392],\n",
              "           ...,\n",
              "           [0.6549, 0.6549, 0.6549,  ..., 0.7137, 0.7137, 0.7137],\n",
              "           [0.6549, 0.6549, 0.6549,  ..., 0.7137, 0.7137, 0.7137],\n",
              "           [0.6549, 0.6549, 0.6549,  ..., 0.7137, 0.7137, 0.7137]]]]),\n",
              " tensor([[[[0.8980, 0.8980, 0.8980,  ..., 0.9294, 0.9294, 0.9294],\n",
              "           [0.8980, 0.8980, 0.8980,  ..., 0.9294, 0.9294, 0.9294],\n",
              "           [0.8980, 0.8980, 0.8980,  ..., 0.9294, 0.9294, 0.9294],\n",
              "           ...,\n",
              "           [0.2863, 0.2863, 0.2863,  ..., 0.2431, 0.2431, 0.2431],\n",
              "           [0.2863, 0.2863, 0.2863,  ..., 0.2431, 0.2431, 0.2431],\n",
              "           [0.2863, 0.2863, 0.2863,  ..., 0.2431, 0.2431, 0.2431]],\n",
              " \n",
              "          [[0.9255, 0.9255, 0.9255,  ..., 0.9451, 0.9451, 0.9451],\n",
              "           [0.9255, 0.9255, 0.9255,  ..., 0.9451, 0.9451, 0.9451],\n",
              "           [0.9255, 0.9255, 0.9255,  ..., 0.9451, 0.9451, 0.9451],\n",
              "           ...,\n",
              "           [0.3176, 0.3176, 0.3176,  ..., 0.2588, 0.2588, 0.2588],\n",
              "           [0.3176, 0.3176, 0.3176,  ..., 0.2588, 0.2588, 0.2588],\n",
              "           [0.3176, 0.3176, 0.3176,  ..., 0.2588, 0.2588, 0.2588]],\n",
              " \n",
              "          [[0.9647, 0.9647, 0.9647,  ..., 0.9569, 0.9569, 0.9569],\n",
              "           [0.9647, 0.9647, 0.9647,  ..., 0.9569, 0.9569, 0.9569],\n",
              "           [0.9647, 0.9647, 0.9647,  ..., 0.9569, 0.9569, 0.9569],\n",
              "           ...,\n",
              "           [0.3059, 0.3059, 0.3059,  ..., 0.2627, 0.2627, 0.2627],\n",
              "           [0.3059, 0.3059, 0.3059,  ..., 0.2627, 0.2627, 0.2627],\n",
              "           [0.3059, 0.3059, 0.3059,  ..., 0.2627, 0.2627, 0.2627]]],\n",
              " \n",
              " \n",
              "         [[[0.5412, 0.5412, 0.5412,  ..., 0.3569, 0.3569, 0.3569],\n",
              "           [0.5412, 0.5412, 0.5412,  ..., 0.3569, 0.3569, 0.3569],\n",
              "           [0.5412, 0.5412, 0.5412,  ..., 0.3569, 0.3569, 0.3569],\n",
              "           ...,\n",
              "           [0.5137, 0.5137, 0.5137,  ..., 0.5098, 0.5098, 0.5098],\n",
              "           [0.5137, 0.5137, 0.5137,  ..., 0.5098, 0.5098, 0.5098],\n",
              "           [0.5137, 0.5137, 0.5137,  ..., 0.5098, 0.5098, 0.5098]],\n",
              " \n",
              "          [[0.5176, 0.5176, 0.5176,  ..., 0.3412, 0.3412, 0.3412],\n",
              "           [0.5176, 0.5176, 0.5176,  ..., 0.3412, 0.3412, 0.3412],\n",
              "           [0.5176, 0.5176, 0.5176,  ..., 0.3412, 0.3412, 0.3412],\n",
              "           ...,\n",
              "           [0.5333, 0.5333, 0.5333,  ..., 0.5216, 0.5216, 0.5216],\n",
              "           [0.5333, 0.5333, 0.5333,  ..., 0.5216, 0.5216, 0.5216],\n",
              "           [0.5333, 0.5333, 0.5333,  ..., 0.5216, 0.5216, 0.5216]],\n",
              " \n",
              "          [[0.4549, 0.4549, 0.4549,  ..., 0.3294, 0.3294, 0.3294],\n",
              "           [0.4549, 0.4549, 0.4549,  ..., 0.3294, 0.3294, 0.3294],\n",
              "           [0.4549, 0.4549, 0.4549,  ..., 0.3294, 0.3294, 0.3294],\n",
              "           ...,\n",
              "           [0.5961, 0.5961, 0.5961,  ..., 0.5686, 0.5686, 0.5686],\n",
              "           [0.5961, 0.5961, 0.5961,  ..., 0.5686, 0.5686, 0.5686],\n",
              "           [0.5961, 0.5961, 0.5961,  ..., 0.5686, 0.5686, 0.5686]]],\n",
              " \n",
              " \n",
              "         [[[0.8863, 0.8863, 0.8863,  ..., 0.4510, 0.4510, 0.4510],\n",
              "           [0.8863, 0.8863, 0.8863,  ..., 0.4510, 0.4510, 0.4510],\n",
              "           [0.8863, 0.8863, 0.8863,  ..., 0.4510, 0.4510, 0.4510],\n",
              "           ...,\n",
              "           [0.6196, 0.6196, 0.6196,  ..., 0.5255, 0.5255, 0.5255],\n",
              "           [0.6196, 0.6196, 0.6196,  ..., 0.5255, 0.5255, 0.5255],\n",
              "           [0.6196, 0.6196, 0.6196,  ..., 0.5255, 0.5255, 0.5255]],\n",
              " \n",
              "          [[0.8392, 0.8392, 0.8392,  ..., 0.3098, 0.3098, 0.3098],\n",
              "           [0.8392, 0.8392, 0.8392,  ..., 0.3098, 0.3098, 0.3098],\n",
              "           [0.8392, 0.8392, 0.8392,  ..., 0.3098, 0.3098, 0.3098],\n",
              "           ...,\n",
              "           [0.6235, 0.6235, 0.6235,  ..., 0.5373, 0.5373, 0.5373],\n",
              "           [0.6235, 0.6235, 0.6235,  ..., 0.5373, 0.5373, 0.5373],\n",
              "           [0.6235, 0.6235, 0.6235,  ..., 0.5373, 0.5373, 0.5373]],\n",
              " \n",
              "          [[0.8824, 0.8824, 0.8824,  ..., 0.2588, 0.2588, 0.2588],\n",
              "           [0.8824, 0.8824, 0.8824,  ..., 0.2588, 0.2588, 0.2588],\n",
              "           [0.8824, 0.8824, 0.8824,  ..., 0.2588, 0.2588, 0.2588],\n",
              "           ...,\n",
              "           [0.7059, 0.7059, 0.7059,  ..., 0.6784, 0.6784, 0.6784],\n",
              "           [0.7059, 0.7059, 0.7059,  ..., 0.6784, 0.6784, 0.6784],\n",
              "           [0.7059, 0.7059, 0.7059,  ..., 0.6784, 0.6784, 0.6784]]],\n",
              " \n",
              " \n",
              "         ...,\n",
              " \n",
              " \n",
              "         [[[0.0902, 0.0902, 0.0902,  ..., 0.5059, 0.5059, 0.5059],\n",
              "           [0.0902, 0.0902, 0.0902,  ..., 0.5059, 0.5059, 0.5059],\n",
              "           [0.0902, 0.0902, 0.0902,  ..., 0.5059, 0.5059, 0.5059],\n",
              "           ...,\n",
              "           [0.7647, 0.7647, 0.7647,  ..., 0.7686, 0.7686, 0.7686],\n",
              "           [0.7647, 0.7647, 0.7647,  ..., 0.7686, 0.7686, 0.7686],\n",
              "           [0.7647, 0.7647, 0.7647,  ..., 0.7686, 0.7686, 0.7686]],\n",
              " \n",
              "          [[0.1373, 0.1373, 0.1373,  ..., 0.5059, 0.5059, 0.5059],\n",
              "           [0.1373, 0.1373, 0.1373,  ..., 0.5059, 0.5059, 0.5059],\n",
              "           [0.1373, 0.1373, 0.1373,  ..., 0.5059, 0.5059, 0.5059],\n",
              "           ...,\n",
              "           [0.8078, 0.8078, 0.8078,  ..., 0.8000, 0.8000, 0.8000],\n",
              "           [0.8078, 0.8078, 0.8078,  ..., 0.8000, 0.8000, 0.8000],\n",
              "           [0.8078, 0.8078, 0.8078,  ..., 0.8000, 0.8000, 0.8000]],\n",
              " \n",
              "          [[0.1373, 0.1373, 0.1373,  ..., 0.4118, 0.4118, 0.4118],\n",
              "           [0.1373, 0.1373, 0.1373,  ..., 0.4118, 0.4118, 0.4118],\n",
              "           [0.1373, 0.1373, 0.1373,  ..., 0.4118, 0.4118, 0.4118],\n",
              "           ...,\n",
              "           [0.8039, 0.8039, 0.8039,  ..., 0.7922, 0.7922, 0.7922],\n",
              "           [0.8039, 0.8039, 0.8039,  ..., 0.7922, 0.7922, 0.7922],\n",
              "           [0.8039, 0.8039, 0.8039,  ..., 0.7922, 0.7922, 0.7922]]],\n",
              " \n",
              " \n",
              "         [[[0.5765, 0.5765, 0.5765,  ..., 0.6157, 0.6157, 0.6157],\n",
              "           [0.5765, 0.5765, 0.5765,  ..., 0.6157, 0.6157, 0.6157],\n",
              "           [0.5765, 0.5765, 0.5765,  ..., 0.6157, 0.6157, 0.6157],\n",
              "           ...,\n",
              "           [0.4078, 0.4078, 0.4078,  ..., 0.5176, 0.5176, 0.5176],\n",
              "           [0.4078, 0.4078, 0.4078,  ..., 0.5176, 0.5176, 0.5176],\n",
              "           [0.4078, 0.4078, 0.4078,  ..., 0.5176, 0.5176, 0.5176]],\n",
              " \n",
              "          [[0.5725, 0.5725, 0.5725,  ..., 0.6196, 0.6196, 0.6196],\n",
              "           [0.5725, 0.5725, 0.5725,  ..., 0.6196, 0.6196, 0.6196],\n",
              "           [0.5725, 0.5725, 0.5725,  ..., 0.6196, 0.6196, 0.6196],\n",
              "           ...,\n",
              "           [0.3804, 0.3804, 0.3804,  ..., 0.4902, 0.4902, 0.4902],\n",
              "           [0.3804, 0.3804, 0.3804,  ..., 0.4902, 0.4902, 0.4902],\n",
              "           [0.3804, 0.3804, 0.3804,  ..., 0.4902, 0.4902, 0.4902]],\n",
              " \n",
              "          [[0.5922, 0.5922, 0.5922,  ..., 0.6863, 0.6863, 0.6863],\n",
              "           [0.5922, 0.5922, 0.5922,  ..., 0.6863, 0.6863, 0.6863],\n",
              "           [0.5922, 0.5922, 0.5922,  ..., 0.6863, 0.6863, 0.6863],\n",
              "           ...,\n",
              "           [0.3569, 0.3569, 0.3569,  ..., 0.4510, 0.4510, 0.4510],\n",
              "           [0.3569, 0.3569, 0.3569,  ..., 0.4510, 0.4510, 0.4510],\n",
              "           [0.3569, 0.3569, 0.3569,  ..., 0.4510, 0.4510, 0.4510]]],\n",
              " \n",
              " \n",
              "         [[[0.1059, 0.1059, 0.1059,  ..., 0.1451, 0.1451, 0.1451],\n",
              "           [0.1059, 0.1059, 0.1059,  ..., 0.1451, 0.1451, 0.1451],\n",
              "           [0.1059, 0.1059, 0.1059,  ..., 0.1451, 0.1451, 0.1451],\n",
              "           ...,\n",
              "           [0.4471, 0.4471, 0.4471,  ..., 0.3647, 0.3647, 0.3647],\n",
              "           [0.4471, 0.4471, 0.4471,  ..., 0.3647, 0.3647, 0.3647],\n",
              "           [0.4471, 0.4471, 0.4471,  ..., 0.3647, 0.3647, 0.3647]],\n",
              " \n",
              "          [[0.0980, 0.0980, 0.0980,  ..., 0.1412, 0.1412, 0.1412],\n",
              "           [0.0980, 0.0980, 0.0980,  ..., 0.1412, 0.1412, 0.1412],\n",
              "           [0.0980, 0.0980, 0.0980,  ..., 0.1412, 0.1412, 0.1412],\n",
              "           ...,\n",
              "           [0.4549, 0.4549, 0.4549,  ..., 0.3412, 0.3412, 0.3412],\n",
              "           [0.4549, 0.4549, 0.4549,  ..., 0.3412, 0.3412, 0.3412],\n",
              "           [0.4549, 0.4549, 0.4549,  ..., 0.3412, 0.3412, 0.3412]],\n",
              " \n",
              "          [[0.2431, 0.2431, 0.2431,  ..., 0.2706, 0.2706, 0.2706],\n",
              "           [0.2431, 0.2431, 0.2431,  ..., 0.2706, 0.2706, 0.2706],\n",
              "           [0.2431, 0.2431, 0.2431,  ..., 0.2706, 0.2706, 0.2706],\n",
              "           ...,\n",
              "           [0.6471, 0.6471, 0.6471,  ..., 0.4863, 0.4863, 0.4863],\n",
              "           [0.6471, 0.6471, 0.6471,  ..., 0.4863, 0.4863, 0.4863],\n",
              "           [0.6471, 0.6471, 0.6471,  ..., 0.4863, 0.4863, 0.4863]]]]),\n",
              " tensor([1, 0, 0, 1, 1, 0, 1, 1, 1, 1, 0, 1, 0, 1, 1, 1, 1, 0, 0, 1, 0, 0, 0, 1,\n",
              "         0, 0, 1, 0, 1, 1, 0, 1, 0, 0, 0, 0, 1, 0, 0, 1, 0, 1, 0, 0, 0, 1, 1, 0,\n",
              "         1, 0, 1, 1, 0, 1, 1, 0, 0, 0, 0, 0, 1, 0, 0, 0])]"
            ]
          },
          "metadata": {},
          "execution_count": 32
        }
      ],
      "source": [
        "next(iter(airplane_or_automobile_train_loader))"
      ]
    },
    {
      "cell_type": "code",
      "execution_count": 33,
      "metadata": {
        "colab": {
          "base_uri": "https://localhost:8080/"
        },
        "id": "5g-5qYPXGsbC",
        "outputId": "22097294-230e-44c1-ed2d-6f2cebe0c39f"
      },
      "outputs": [
        {
          "output_type": "stream",
          "name": "stdout",
          "text": [
            "torch.Size([64, 3, 224, 224])\n",
            "torch.Size([64, 3, 224, 224])\n",
            "torch.Size([64, 3, 224, 224])\n",
            "torch.Size([64])\n"
          ]
        }
      ],
      "source": [
        "img_custom, img_custom2, img_custom3, label_custom = next(iter(airplane_or_automobile_train_loader))\n",
        "print(img_custom.shape)\n",
        "print(img_custom2.shape)\n",
        "print(img_custom3.shape)\n",
        "print(label_custom.shape)"
      ]
    },
    {
      "cell_type": "code",
      "execution_count": 58,
      "metadata": {
        "id": "-e4qnMEuC7DN",
        "colab": {
          "base_uri": "https://localhost:8080/"
        },
        "outputId": "9c29945e-2b4a-4cce-e05a-e0ff3121a405"
      },
      "outputs": [
        {
          "output_type": "stream",
          "name": "stdout",
          "text": [
            "Epoch [1/5], Triplet Loss: 0.2107\n",
            "Epoch [2/5], Triplet Loss: 0.1889\n",
            "Epoch [3/5], Triplet Loss: 0.1667\n",
            "Epoch [4/5], Triplet Loss: 0.1644\n",
            "Epoch [5/5], Triplet Loss: 0.1491\n"
          ]
        }
      ],
      "source": [
        "for param in resnet50_model.fc.parameters():\n",
        "    param.requires_grad = True\n",
        "triplet_criterion = TripletLoss(margin=margin)\n",
        "optimizer_triplet = optim.Adam(resnet50_model.parameters(), lr=learning_rate)\n",
        "\n",
        "loss_all = []\n",
        "for epoch in range(num_epochs_triplet):\n",
        "    loss_triplet = train_triplet(resnet50_model, airplane_or_automobile_train_loader, triplet_criterion, optimizer_triplet, device)\n",
        "    print(f'Epoch [{epoch+1}/{num_epochs_triplet}], Triplet Loss: {loss_triplet:.4f}')\n",
        "    loss_all.append(loss_triplet)\n"
      ]
    },
    {
      "cell_type": "code",
      "source": [
        "plt.plot(range(1, 6), loss_all[0:5], label='Loss')\n",
        "plt.xlabel('Epoch')\n",
        "plt.ylabel('Loss')\n",
        "plt.title('Loss Over Epochs')\n",
        "plt.legend()\n",
        "plt.show()"
      ],
      "metadata": {
        "id": "q8WcHmxmpw9C",
        "colab": {
          "base_uri": "https://localhost:8080/",
          "height": 472
        },
        "outputId": "d7a5ef47-2b5c-4e6c-d9a6-a7b726becdac"
      },
      "execution_count": 59,
      "outputs": [
        {
          "output_type": "display_data",
          "data": {
            "text/plain": [
              "<Figure size 640x480 with 1 Axes>"
            ],
            "image/png": "[encoded data removed]"
          },
          "metadata": {}
        }
      ]
    },
    {
      "cell_type": "code",
      "source": [
        "for param in resnet50_model.parameters():\n",
        "    param.requires_grad = False"
      ],
      "metadata": {
        "id": "v1m4ksfSL1Za"
      },
      "execution_count": 60,
      "outputs": []
    },
    {
      "cell_type": "code",
      "source": [
        "for param in resnet50_model.fc.parameters():\n",
        "    param.requires_grad = True"
      ],
      "metadata": {
        "id": "_c99P-PIL9GT"
      },
      "execution_count": 61,
      "outputs": []
    },
    {
      "cell_type": "code",
      "source": [
        "airplane_or_automobile_train_dataset = filter_dataset(train_dataset, is_airplane_or_automobile)\n",
        "airplane_or_automobile_test_dataset = filter_dataset(test_dataset, is_airplane_or_automobile)\n",
        "print(len(airplane_or_automobile_train_dataset), len(airplane_or_automobile_test_dataset))\n",
        "\n",
        "airplane_or_automobile_train_loader = DataLoader(dataset=airplane_or_automobile_train_dataset, batch_size=batch_size, shuffle=True)\n",
        "airplane_or_automobile_test_loader = DataLoader(dataset=airplane_or_automobile_test_dataset, batch_size=batch_size, shuffle=False)\n",
        "print(len(airplane_or_automobile_train_loader), len(airplane_or_automobile_test_loader))"
      ],
      "metadata": {
        "id": "U1LeerGESgS6",
        "colab": {
          "base_uri": "https://localhost:8080/"
        },
        "outputId": "26766565-9173-43ba-a9b3-b365f5ed9538"
      },
      "execution_count": 62,
      "outputs": [
        {
          "output_type": "stream",
          "name": "stdout",
          "text": [
            "10000 2000\n",
            "157 32\n"
          ]
        }
      ]
    },
    {
      "cell_type": "code",
      "source": [
        "criterion_cross_entropy = nn.CrossEntropyLoss()\n",
        "optimizer_cross_entropy = optim.Adam(resnet50_model.parameters(), lr=learning_rate)\n",
        "acc_all = []\n",
        "loss_all = []\n",
        "for epoch in range(num_epochs_cross_entropy):\n",
        "    loss_cross_entropy, acc = train_cross_entropy(resnet50_model, airplane_or_automobile_train_loader, criterion_cross_entropy, optimizer_cross_entropy, device)\n",
        "    print(f'Epoch [{epoch+1}/{num_epochs_cross_entropy}], Cross Entropy Loss: {loss_cross_entropy:.4f}')\n",
        "    loss_all.append(loss_cross_entropy)\n",
        "    acc_all.append(acc)"
      ],
      "metadata": {
        "colab": {
          "base_uri": "https://localhost:8080/"
        },
        "id": "4ziYFRQwQURu",
        "outputId": "c4f8908b-d9c1-4e59-fad0-0f7a397a42f6"
      },
      "execution_count": 67,
      "outputs": [
        {
          "output_type": "stream",
          "name": "stdout",
          "text": [
            "Epoch [1/5], Cross Entropy Loss: 0.0905\n",
            "Epoch [2/5], Cross Entropy Loss: 0.0815\n",
            "Epoch [3/5], Cross Entropy Loss: 0.0802\n",
            "Epoch [4/5], Cross Entropy Loss: 0.0914\n",
            "Epoch [5/5], Cross Entropy Loss: 0.0903\n"
          ]
        }
      ]
    },
    {
      "cell_type": "code",
      "source": [
        "plt.plot(range(1, 4), loss_all[0:3], label='Loss')\n",
        "plt.xlabel('Epoch')\n",
        "plt.ylabel('Loss')\n",
        "plt.title('Loss Over Epochs')\n",
        "plt.legend()\n",
        "plt.show()"
      ],
      "metadata": {
        "colab": {
          "base_uri": "https://localhost:8080/",
          "height": 472
        },
        "id": "SElDbcGzxnGN",
        "outputId": "20f216c0-7947-4dcd-f996-064d9c86eeaf"
      },
      "execution_count": 71,
      "outputs": [
        {
          "output_type": "display_data",
          "data": {
            "text/plain": [
              "<Figure size 640x480 with 1 Axes>"
            ],
            "image/png": "[encoded data removed]"
          },
          "metadata": {}
        }
      ]
    },
    {
      "cell_type": "code",
      "source": [
        "plt.plot(range(1, 4), acc_all[0:3], label='Train Accuracy')\n",
        "plt.xlabel('Epoch')\n",
        "plt.ylabel('Accuracy')\n",
        "plt.title('Train Accuracy Over Epochs')\n",
        "plt.legend()\n",
        "plt.show()"
      ],
      "metadata": {
        "colab": {
          "base_uri": "https://localhost:8080/",
          "height": 472
        },
        "id": "4hxrPpv9xt-6",
        "outputId": "6d172f66-755e-4e43-94b5-62da3189010a"
      },
      "execution_count": 72,
      "outputs": [
        {
          "output_type": "display_data",
          "data": {
            "text/plain": [
              "<Figure size 640x480 with 1 Axes>"
            ],
            "image/png": "[encoded data removed]"
          },
          "metadata": {}
        }
      ]
    },
    {
      "cell_type": "code",
      "source": [
        "resnet50_model.eval()\n",
        "correct, total = 0, 0\n",
        "with torch.no_grad():\n",
        "    for images, labels in airplane_or_automobile_test_loader:\n",
        "        images, labels = images.to(device), labels.to(device)\n",
        "        outputs = resnet50_model(images)\n",
        "        _, predicted = torch.max(outputs.data, 1)\n",
        "        total += labels.size(0)\n",
        "        correct += (predicted == labels).sum().item()\n",
        "\n",
        "accuracy = correct / total\n",
        "print(f'Final Test Accuracy: {100 * accuracy:.2f}%')"
      ],
      "metadata": {
        "colab": {
          "base_uri": "https://localhost:8080/"
        },
        "id": "xlgCVuj5U-OM",
        "outputId": "80804cac-b3a7-44d1-f626-0f1c718076f5"
      },
      "execution_count": 70,
      "outputs": [
        {
          "output_type": "stream",
          "name": "stdout",
          "text": [
            "Final Test Accuracy: 96.35%\n"
          ]
        }
      ]
    },
    {
      "cell_type": "markdown",
      "source": [
        "# part 3"
      ],
      "metadata": {
        "id": "Gs8CWwoeS1RJ"
      }
    },
    {
      "cell_type": "code",
      "source": [
        "import torch\n",
        "import torch.nn as nn\n",
        "import torch.optim as optim\n",
        "from torch.utils.data import DataLoader\n",
        "from torchvision.datasets import CIFAR10\n",
        "from torchvision import transforms\n",
        "from torch.autograd import Variable"
      ],
      "metadata": {
        "id": "Sn5ztEh3j0r_"
      },
      "execution_count": 44,
      "outputs": []
    },
    {
      "cell_type": "code",
      "source": [
        "class TripletCrossEntropyLoss(nn.Module):\n",
        "    def __init__(self, alpha=1):\n",
        "        super(TripletCrossEntropyLoss, self).__init__()\n",
        "        self.alpha = alpha\n",
        "        self.cross_entropy_loss = nn.CrossEntropyLoss()\n",
        "\n",
        "    def forward(self, output, anchor, positive, negative, labels):\n",
        "        triplet_loss = TripletLoss()(anchor, positive, negative)\n",
        "        cross_entropy_loss = self.cross_entropy_loss(output, labels)\n",
        "        total_loss = triplet_loss + self.alpha * cross_entropy_loss\n",
        "        return total_loss"
      ],
      "metadata": {
        "id": "xAqlJ4jXS02H"
      },
      "execution_count": 48,
      "outputs": []
    },
    {
      "cell_type": "code",
      "source": [
        "device = torch.device('cuda' if torch.cuda.is_available() else 'cpu')\n",
        "num_classes = 2\n",
        "batch_size = 64\n",
        "learning_rate = 0.001\n",
        "num_epochs = 5"
      ],
      "metadata": {
        "id": "p6bIgJCTkm23"
      },
      "execution_count": 49,
      "outputs": []
    },
    {
      "cell_type": "code",
      "source": [
        "resnet50_model = torch.hub.load('pytorch/vision:v0.10.0', 'resnet50', pretrained=True)\n",
        "for param in resnet50_model.parameters():\n",
        "    param.requires_grad = False\n",
        "torch.manual_seed(42)\n",
        "torch.cuda.manual_seed(42)\n",
        "\n",
        "resnet50_model.fc = torch.nn.Linear(in_features=2048, out_features=2, bias=True).to(device)\n",
        "resnet50_model.to(device)"
      ],
      "metadata": {
        "colab": {
          "base_uri": "https://localhost:8080/"
        },
        "id": "d9PT7vzxkopX",
        "outputId": "b286b9fc-a25b-4759-f569-e322838b9734"
      },
      "execution_count": 50,
      "outputs": [
        {
          "output_type": "stream",
          "name": "stderr",
          "text": [
            "Using cache found in /root/.cache/torch/hub/pytorch_vision_v0.10.0\n",
            "/usr/local/lib/python3.10/dist-packages/torchvision/models/_utils.py:208: UserWarning: The parameter 'pretrained' is deprecated since 0.13 and may be removed in the future, please use 'weights' instead.\n",
            "  warnings.warn(\n",
            "/usr/local/lib/python3.10/dist-packages/torchvision/models/_utils.py:223: UserWarning: Arguments other than a weight enum or `None` for 'weights' are deprecated since 0.13 and may be removed in the future. The current behavior is equivalent to passing `weights=ResNet50_Weights.IMAGENET1K_V1`. You can also use `weights=ResNet50_Weights.DEFAULT` to get the most up-to-date weights.\n",
            "  warnings.warn(msg)\n"
          ]
        },
        {
          "output_type": "execute_result",
          "data": {
            "text/plain": [
              "ResNet(\n",
              "  (conv1): Conv2d(3, 64, kernel_size=(7, 7), stride=(2, 2), padding=(3, 3), bias=False)\n",
              "  (bn1): BatchNorm2d(64, eps=1e-05, momentum=0.1, affine=True, track_running_stats=True)\n",
              "  (relu): ReLU(inplace=True)\n",
              "  (maxpool): MaxPool2d(kernel_size=3, stride=2, padding=1, dilation=1, ceil_mode=False)\n",
              "  (layer1): Sequential(\n",
              "    (0): Bottleneck(\n",
              "      (conv1): Conv2d(64, 64, kernel_size=(1, 1), stride=(1, 1), bias=False)\n",
              "      (bn1): BatchNorm2d(64, eps=1e-05, momentum=0.1, affine=True, track_running_stats=True)\n",
              "      (conv2): Conv2d(64, 64, kernel_size=(3, 3), stride=(1, 1), padding=(1, 1), bias=False)\n",
              "      (bn2): BatchNorm2d(64, eps=1e-05, momentum=0.1, affine=True, track_running_stats=True)\n",
              "      (conv3): Conv2d(64, 256, kernel_size=(1, 1), stride=(1, 1), bias=False)\n",
              "      (bn3): BatchNorm2d(256, eps=1e-05, momentum=0.1, affine=True, track_running_stats=True)\n",
              "      (relu): ReLU(inplace=True)\n",
              "      (downsample): Sequential(\n",
              "        (0): Conv2d(64, 256, kernel_size=(1, 1), stride=(1, 1), bias=False)\n",
              "        (1): BatchNorm2d(256, eps=1e-05, momentum=0.1, affine=True, track_running_stats=True)\n",
              "      )\n",
              "    )\n",
              "    (1): Bottleneck(\n",
              "      (conv1): Conv2d(256, 64, kernel_size=(1, 1), stride=(1, 1), bias=False)\n",
              "      (bn1): BatchNorm2d(64, eps=1e-05, momentum=0.1, affine=True, track_running_stats=True)\n",
              "      (conv2): Conv2d(64, 64, kernel_size=(3, 3), stride=(1, 1), padding=(1, 1), bias=False)\n",
              "      (bn2): BatchNorm2d(64, eps=1e-05, momentum=0.1, affine=True, track_running_stats=True)\n",
              "      (conv3): Conv2d(64, 256, kernel_size=(1, 1), stride=(1, 1), bias=False)\n",
              "      (bn3): BatchNorm2d(256, eps=1e-05, momentum=0.1, affine=True, track_running_stats=True)\n",
              "      (relu): ReLU(inplace=True)\n",
              "    )\n",
              "    (2): Bottleneck(\n",
              "      (conv1): Conv2d(256, 64, kernel_size=(1, 1), stride=(1, 1), bias=False)\n",
              "      (bn1): BatchNorm2d(64, eps=1e-05, momentum=0.1, affine=True, track_running_stats=True)\n",
              "      (conv2): Conv2d(64, 64, kernel_size=(3, 3), stride=(1, 1), padding=(1, 1), bias=False)\n",
              "      (bn2): BatchNorm2d(64, eps=1e-05, momentum=0.1, affine=True, track_running_stats=True)\n",
              "      (conv3): Conv2d(64, 256, kernel_size=(1, 1), stride=(1, 1), bias=False)\n",
              "      (bn3): BatchNorm2d(256, eps=1e-05, momentum=0.1, affine=True, track_running_stats=True)\n",
              "      (relu): ReLU(inplace=True)\n",
              "    )\n",
              "  )\n",
              "  (layer2): Sequential(\n",
              "    (0): Bottleneck(\n",
              "      (conv1): Conv2d(256, 128, kernel_size=(1, 1), stride=(1, 1), bias=False)\n",
              "      (bn1): BatchNorm2d(128, eps=1e-05, momentum=0.1, affine=True, track_running_stats=True)\n",
              "      (conv2): Conv2d(128, 128, kernel_size=(3, 3), stride=(2, 2), padding=(1, 1), bias=False)\n",
              "      (bn2): BatchNorm2d(128, eps=1e-05, momentum=0.1, affine=True, track_running_stats=True)\n",
              "      (conv3): Conv2d(128, 512, kernel_size=(1, 1), stride=(1, 1), bias=False)\n",
              "      (bn3): BatchNorm2d(512, eps=1e-05, momentum=0.1, affine=True, track_running_stats=True)\n",
              "      (relu): ReLU(inplace=True)\n",
              "      (downsample): Sequential(\n",
              "        (0): Conv2d(256, 512, kernel_size=(1, 1), stride=(2, 2), bias=False)\n",
              "        (1): BatchNorm2d(512, eps=1e-05, momentum=0.1, affine=True, track_running_stats=True)\n",
              "      )\n",
              "    )\n",
              "    (1): Bottleneck(\n",
              "      (conv1): Conv2d(512, 128, kernel_size=(1, 1), stride=(1, 1), bias=False)\n",
              "      (bn1): BatchNorm2d(128, eps=1e-05, momentum=0.1, affine=True, track_running_stats=True)\n",
              "      (conv2): Conv2d(128, 128, kernel_size=(3, 3), stride=(1, 1), padding=(1, 1), bias=False)\n",
              "      (bn2): BatchNorm2d(128, eps=1e-05, momentum=0.1, affine=True, track_running_stats=True)\n",
              "      (conv3): Conv2d(128, 512, kernel_size=(1, 1), stride=(1, 1), bias=False)\n",
              "      (bn3): BatchNorm2d(512, eps=1e-05, momentum=0.1, affine=True, track_running_stats=True)\n",
              "      (relu): ReLU(inplace=True)\n",
              "    )\n",
              "    (2): Bottleneck(\n",
              "      (conv1): Conv2d(512, 128, kernel_size=(1, 1), stride=(1, 1), bias=False)\n",
              "      (bn1): BatchNorm2d(128, eps=1e-05, momentum=0.1, affine=True, track_running_stats=True)\n",
              "      (conv2): Conv2d(128, 128, kernel_size=(3, 3), stride=(1, 1), padding=(1, 1), bias=False)\n",
              "      (bn2): BatchNorm2d(128, eps=1e-05, momentum=0.1, affine=True, track_running_stats=True)\n",
              "      (conv3): Conv2d(128, 512, kernel_size=(1, 1), stride=(1, 1), bias=False)\n",
              "      (bn3): BatchNorm2d(512, eps=1e-05, momentum=0.1, affine=True, track_running_stats=True)\n",
              "      (relu): ReLU(inplace=True)\n",
              "    )\n",
              "    (3): Bottleneck(\n",
              "      (conv1): Conv2d(512, 128, kernel_size=(1, 1), stride=(1, 1), bias=False)\n",
              "      (bn1): BatchNorm2d(128, eps=1e-05, momentum=0.1, affine=True, track_running_stats=True)\n",
              "      (conv2): Conv2d(128, 128, kernel_size=(3, 3), stride=(1, 1), padding=(1, 1), bias=False)\n",
              "      (bn2): BatchNorm2d(128, eps=1e-05, momentum=0.1, affine=True, track_running_stats=True)\n",
              "      (conv3): Conv2d(128, 512, kernel_size=(1, 1), stride=(1, 1), bias=False)\n",
              "      (bn3): BatchNorm2d(512, eps=1e-05, momentum=0.1, affine=True, track_running_stats=True)\n",
              "      (relu): ReLU(inplace=True)\n",
              "    )\n",
              "  )\n",
              "  (layer3): Sequential(\n",
              "    (0): Bottleneck(\n",
              "      (conv1): Conv2d(512, 256, kernel_size=(1, 1), stride=(1, 1), bias=False)\n",
              "      (bn1): BatchNorm2d(256, eps=1e-05, momentum=0.1, affine=True, track_running_stats=True)\n",
              "      (conv2): Conv2d(256, 256, kernel_size=(3, 3), stride=(2, 2), padding=(1, 1), bias=False)\n",
              "      (bn2): BatchNorm2d(256, eps=1e-05, momentum=0.1, affine=True, track_running_stats=True)\n",
              "      (conv3): Conv2d(256, 1024, kernel_size=(1, 1), stride=(1, 1), bias=False)\n",
              "      (bn3): BatchNorm2d(1024, eps=1e-05, momentum=0.1, affine=True, track_running_stats=True)\n",
              "      (relu): ReLU(inplace=True)\n",
              "      (downsample): Sequential(\n",
              "        (0): Conv2d(512, 1024, kernel_size=(1, 1), stride=(2, 2), bias=False)\n",
              "        (1): BatchNorm2d(1024, eps=1e-05, momentum=0.1, affine=True, track_running_stats=True)\n",
              "      )\n",
              "    )\n",
              "    (1): Bottleneck(\n",
              "      (conv1): Conv2d(1024, 256, kernel_size=(1, 1), stride=(1, 1), bias=False)\n",
              "      (bn1): BatchNorm2d(256, eps=1e-05, momentum=0.1, affine=True, track_running_stats=True)\n",
              "      (conv2): Conv2d(256, 256, kernel_size=(3, 3), stride=(1, 1), padding=(1, 1), bias=False)\n",
              "      (bn2): BatchNorm2d(256, eps=1e-05, momentum=0.1, affine=True, track_running_stats=True)\n",
              "      (conv3): Conv2d(256, 1024, kernel_size=(1, 1), stride=(1, 1), bias=False)\n",
              "      (bn3): BatchNorm2d(1024, eps=1e-05, momentum=0.1, affine=True, track_running_stats=True)\n",
              "      (relu): ReLU(inplace=True)\n",
              "    )\n",
              "    (2): Bottleneck(\n",
              "      (conv1): Conv2d(1024, 256, kernel_size=(1, 1), stride=(1, 1), bias=False)\n",
              "      (bn1): BatchNorm2d(256, eps=1e-05, momentum=0.1, affine=True, track_running_stats=True)\n",
              "      (conv2): Conv2d(256, 256, kernel_size=(3, 3), stride=(1, 1), padding=(1, 1), bias=False)\n",
              "      (bn2): BatchNorm2d(256, eps=1e-05, momentum=0.1, affine=True, track_running_stats=True)\n",
              "      (conv3): Conv2d(256, 1024, kernel_size=(1, 1), stride=(1, 1), bias=False)\n",
              "      (bn3): BatchNorm2d(1024, eps=1e-05, momentum=0.1, affine=True, track_running_stats=True)\n",
              "      (relu): ReLU(inplace=True)\n",
              "    )\n",
              "    (3): Bottleneck(\n",
              "      (conv1): Conv2d(1024, 256, kernel_size=(1, 1), stride=(1, 1), bias=False)\n",
              "      (bn1): BatchNorm2d(256, eps=1e-05, momentum=0.1, affine=True, track_running_stats=True)\n",
              "      (conv2): Conv2d(256, 256, kernel_size=(3, 3), stride=(1, 1), padding=(1, 1), bias=False)\n",
              "      (bn2): BatchNorm2d(256, eps=1e-05, momentum=0.1, affine=True, track_running_stats=True)\n",
              "      (conv3): Conv2d(256, 1024, kernel_size=(1, 1), stride=(1, 1), bias=False)\n",
              "      (bn3): BatchNorm2d(1024, eps=1e-05, momentum=0.1, affine=True, track_running_stats=True)\n",
              "      (relu): ReLU(inplace=True)\n",
              "    )\n",
              "    (4): Bottleneck(\n",
              "      (conv1): Conv2d(1024, 256, kernel_size=(1, 1), stride=(1, 1), bias=False)\n",
              "      (bn1): BatchNorm2d(256, eps=1e-05, momentum=0.1, affine=True, track_running_stats=True)\n",
              "      (conv2): Conv2d(256, 256, kernel_size=(3, 3), stride=(1, 1), padding=(1, 1), bias=False)\n",
              "      (bn2): BatchNorm2d(256, eps=1e-05, momentum=0.1, affine=True, track_running_stats=True)\n",
              "      (conv3): Conv2d(256, 1024, kernel_size=(1, 1), stride=(1, 1), bias=False)\n",
              "      (bn3): BatchNorm2d(1024, eps=1e-05, momentum=0.1, affine=True, track_running_stats=True)\n",
              "      (relu): ReLU(inplace=True)\n",
              "    )\n",
              "    (5): Bottleneck(\n",
              "      (conv1): Conv2d(1024, 256, kernel_size=(1, 1), stride=(1, 1), bias=False)\n",
              "      (bn1): BatchNorm2d(256, eps=1e-05, momentum=0.1, affine=True, track_running_stats=True)\n",
              "      (conv2): Conv2d(256, 256, kernel_size=(3, 3), stride=(1, 1), padding=(1, 1), bias=False)\n",
              "      (bn2): BatchNorm2d(256, eps=1e-05, momentum=0.1, affine=True, track_running_stats=True)\n",
              "      (conv3): Conv2d(256, 1024, kernel_size=(1, 1), stride=(1, 1), bias=False)\n",
              "      (bn3): BatchNorm2d(1024, eps=1e-05, momentum=0.1, affine=True, track_running_stats=True)\n",
              "      (relu): ReLU(inplace=True)\n",
              "    )\n",
              "  )\n",
              "  (layer4): Sequential(\n",
              "    (0): Bottleneck(\n",
              "      (conv1): Conv2d(1024, 512, kernel_size=(1, 1), stride=(1, 1), bias=False)\n",
              "      (bn1): BatchNorm2d(512, eps=1e-05, momentum=0.1, affine=True, track_running_stats=True)\n",
              "      (conv2): Conv2d(512, 512, kernel_size=(3, 3), stride=(2, 2), padding=(1, 1), bias=False)\n",
              "      (bn2): BatchNorm2d(512, eps=1e-05, momentum=0.1, affine=True, track_running_stats=True)\n",
              "      (conv3): Conv2d(512, 2048, kernel_size=(1, 1), stride=(1, 1), bias=False)\n",
              "      (bn3): BatchNorm2d(2048, eps=1e-05, momentum=0.1, affine=True, track_running_stats=True)\n",
              "      (relu): ReLU(inplace=True)\n",
              "      (downsample): Sequential(\n",
              "        (0): Conv2d(1024, 2048, kernel_size=(1, 1), stride=(2, 2), bias=False)\n",
              "        (1): BatchNorm2d(2048, eps=1e-05, momentum=0.1, affine=True, track_running_stats=True)\n",
              "      )\n",
              "    )\n",
              "    (1): Bottleneck(\n",
              "      (conv1): Conv2d(2048, 512, kernel_size=(1, 1), stride=(1, 1), bias=False)\n",
              "      (bn1): BatchNorm2d(512, eps=1e-05, momentum=0.1, affine=True, track_running_stats=True)\n",
              "      (conv2): Conv2d(512, 512, kernel_size=(3, 3), stride=(1, 1), padding=(1, 1), bias=False)\n",
              "      (bn2): BatchNorm2d(512, eps=1e-05, momentum=0.1, affine=True, track_running_stats=True)\n",
              "      (conv3): Conv2d(512, 2048, kernel_size=(1, 1), stride=(1, 1), bias=False)\n",
              "      (bn3): BatchNorm2d(2048, eps=1e-05, momentum=0.1, affine=True, track_running_stats=True)\n",
              "      (relu): ReLU(inplace=True)\n",
              "    )\n",
              "    (2): Bottleneck(\n",
              "      (conv1): Conv2d(2048, 512, kernel_size=(1, 1), stride=(1, 1), bias=False)\n",
              "      (bn1): BatchNorm2d(512, eps=1e-05, momentum=0.1, affine=True, track_running_stats=True)\n",
              "      (conv2): Conv2d(512, 512, kernel_size=(3, 3), stride=(1, 1), padding=(1, 1), bias=False)\n",
              "      (bn2): BatchNorm2d(512, eps=1e-05, momentum=0.1, affine=True, track_running_stats=True)\n",
              "      (conv3): Conv2d(512, 2048, kernel_size=(1, 1), stride=(1, 1), bias=False)\n",
              "      (bn3): BatchNorm2d(2048, eps=1e-05, momentum=0.1, affine=True, track_running_stats=True)\n",
              "      (relu): ReLU(inplace=True)\n",
              "    )\n",
              "  )\n",
              "  (avgpool): AdaptiveAvgPool2d(output_size=(1, 1))\n",
              "  (fc): Linear(in_features=2048, out_features=2, bias=True)\n",
              ")"
            ]
          },
          "metadata": {},
          "execution_count": 50
        }
      ]
    },
    {
      "cell_type": "code",
      "source": [
        "criterion = TripletCrossEntropyLoss(alpha=1)\n",
        "optimizer = optim.Adam(resnet50_model.parameters(), lr=learning_rate)"
      ],
      "metadata": {
        "id": "fvSKIkb-oS1x"
      },
      "execution_count": 51,
      "outputs": []
    },
    {
      "cell_type": "code",
      "source": [
        "acc_all = []\n",
        "loss_all = []\n",
        "for epoch in range(num_epochs):\n",
        "    correct, total = 0, 0\n",
        "    resnet50_model.train()\n",
        "    for anchor, positive, negative, labels in airplane_or_automobile_train_loader:\n",
        "        anchor, positive, negative, labels = anchor.to(device), positive.to(device), negative.to(device), labels.to(device)\n",
        "        optimizer.zero_grad()\n",
        "        outputs = resnet50_model(anchor)\n",
        "        loss = criterion(outputs, anchor, positive, negative, labels)\n",
        "        loss.backward()\n",
        "        optimizer.step()\n",
        "        _, predicted = torch.max(outputs.data, 1)\n",
        "        total += labels.size(0)\n",
        "        correct += (predicted == labels).sum().item()\n",
        "\n",
        "    accuracy = correct / total\n",
        "    acc_all.append(accuracy)\n",
        "    loss_all.append(loss)\n",
        "    resnet50_model.eval()\n",
        "    correct, total = 0, 0\n",
        "    with torch.no_grad():\n",
        "        for anchor, positive, negative, labels in airplane_or_automobile_test_loader:\n",
        "            anchor, positive, negative, labels = anchor.to(device), positive.to(device), negative.to(device), labels.to(device)\n",
        "            outputs = resnet50_model(anchor)\n",
        "            _, predicted = torch.max(outputs.data, 1)\n",
        "            total += labels.size(0)\n",
        "            correct += (predicted == labels).sum().item()\n",
        "\n",
        "    accuracy = correct / total\n",
        "    print(f'Epoch [{epoch+1}/{num_epochs}], Loss: {loss.item():.4f}, Test Accuracy: {100 * accuracy:.2f}%')"
      ],
      "metadata": {
        "colab": {
          "base_uri": "https://localhost:8080/"
        },
        "id": "pk9HbWR7ozIR",
        "outputId": "878684b8-9542-4e10-f05a-945a93c35213"
      },
      "execution_count": 53,
      "outputs": [
        {
          "output_type": "stream",
          "name": "stdout",
          "text": [
            "Epoch [1/5], Loss: 1.5832, Test Accuracy: 96.10%\n",
            "Epoch [2/5], Loss: 1.3238, Test Accuracy: 95.95%\n",
            "Epoch [3/5], Loss: 1.5887, Test Accuracy: 96.30%\n",
            "Epoch [4/5], Loss: 1.6682, Test Accuracy: 96.40%\n",
            "Epoch [5/5], Loss: 1.8986, Test Accuracy: 96.05%\n"
          ]
        }
      ]
    },
    {
      "cell_type": "code",
      "source": [
        "plt.plot(range(1, 6), acc_all[0:5], label='Train Accuracy')\n",
        "plt.xlabel('Epoch')\n",
        "plt.ylabel('Accuracy')\n",
        "plt.title('Train Accuracy Over Epochs')\n",
        "plt.legend()\n",
        "plt.show()"
      ],
      "metadata": {
        "colab": {
          "base_uri": "https://localhost:8080/",
          "height": 472
        },
        "id": "_B2rXodg6l6w",
        "outputId": "f028e9ae-8fa7-4089-9c70-87f5265eaa6b"
      },
      "execution_count": 54,
      "outputs": [
        {
          "output_type": "display_data",
          "data": {
            "text/plain": [
              "<Figure size 640x480 with 1 Axes>"
            ],
            "image/png": "[encoded data removed]"
          },
          "metadata": {}
        }
      ]
    }
  ],
  "metadata": {
    "accelerator": "GPU",
    "colab": {
      "provenance": []
    },
    "kernelspec": {
      "display_name": "Python 3",
      "name": "python3"
    },
    "language_info": {
      "name": "python"
    }
  },
  "nbformat": 4,
  "nbformat_minor": 0
}
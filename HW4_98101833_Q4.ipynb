{
  "nbformat": 4,
  "nbformat_minor": 0,
  "metadata": {
    "colab": {
      "provenance": [],
      "gpuType": "T4"
    },
    "kernelspec": {
      "name": "python3",
      "display_name": "Python 3"
    },
    "language_info": {
      "name": "python"
    },
    "accelerator": "GPU"
  },
  "cells": [
    {
      "cell_type": "markdown",
      "source": [
        "__1__:<br>\n",
        "VAE-VQ offers several advantages over traditional VAEs:\n",
        "\n",
        "Discrete Latent Representations: VAE-VQ introduces discrete latent variables using vector quantization, allowing the model to capture and utilize categorical information in the latent space. This is particularly beneficial when dealing with data with clear categorical variations.\n",
        "\n",
        "Meaningful Exploration in Latent Space: The discrete latent variables in VAE-VQ provide a more meaningful latent space. Each discrete code corresponds to a specific category or mode, making it easier to navigate and understand the latent representations.\n",
        "\n",
        "Improved Generative Capabilities: By incorporating vector quantization, VAE-VQ improves the generative capabilities of the model. The discrete latent variables enable more controlled and targeted generation of samples, making it suitable for tasks.\n",
        "\n",
        "Addressing Mode Collapse: VAE-VQ's training strategy, involving commitment loss and Vector Quantization, helps address issues like mode collapse, where the model fails to represent the full diversity of the data. The commitment loss encourages the encoder to commit to specific embeddings.\n",
        "\n",
        "Effective Handling of Categorical Data: VAE-VQ is well-suited for scenarios where the data exhibits categorical variations, such as different styles, classes, or modes. Traditional VAEs may struggle with capturing these discrete variations effectively.\n",
        "\n",
        "Applicability to Various Domains: VAE-VQ demonstrates versatility in handling different types of data, including images, speech, and videos. The model's ability to extract 1D, 2D, or 3D latent feature spaces makes it adaptable to a wide range of applications.\n",
        "\n",
        "Training Stability: The training strategy of VAE-VQ, involving the straight-through estimator and the use of a dedicated loss term for embedding updates, contributes to stable training and better convergence."
      ],
      "metadata": {
        "id": "o5_ccJ4whCAd"
      }
    },
    {
      "cell_type": "code",
      "execution_count": 86,
      "metadata": {
        "id": "edtlgVZeqtzU"
      },
      "outputs": [],
      "source": [
        "import matplotlib.pyplot as plt\n",
        "import numpy as np\n",
        "\n",
        "import torch\n",
        "import torch.nn as nn\n",
        "import torch.nn.functional as F\n",
        "from torch.utils.data import DataLoader\n",
        "import torch.optim as optim\n",
        "\n",
        "import torchvision.datasets as datasets\n",
        "import torchvision.transforms as transforms\n",
        "from torchvision.utils import make_grid"
      ]
    },
    {
      "cell_type": "code",
      "source": [
        "device = torch.device(\"cuda\" if torch.cuda.is_available() else \"cpu\")"
      ],
      "metadata": {
        "id": "eqlg2W8-rI2W"
      },
      "execution_count": 87,
      "outputs": []
    },
    {
      "cell_type": "markdown",
      "source": [
        "__2__:"
      ],
      "metadata": {
        "id": "nkHmQJ6biN9u"
      }
    },
    {
      "cell_type": "code",
      "source": [
        "training_data = datasets.MNIST(root=\"data\", train=True, download=True,\n",
        "                                  transform=transforms.Compose([\n",
        "                                      transforms.ToTensor()\n",
        "                                  ]))\n",
        "\n",
        "validation_data = datasets.MNIST(root=\"data\", train=False, download=True,\n",
        "                                  transform=transforms.Compose([\n",
        "                                      transforms.ToTensor()\n",
        "                                  ]))\n"
      ],
      "metadata": {
        "id": "5T3HqYCDrYv2"
      },
      "execution_count": 88,
      "outputs": []
    },
    {
      "cell_type": "code",
      "source": [
        "batch_size = 128\n",
        "\n",
        "training_loader = DataLoader(training_data,\n",
        "                             batch_size=batch_size,\n",
        "                             shuffle=True,\n",
        "                             pin_memory=True)\n",
        "validation_loader = DataLoader(validation_data,\n",
        "                               batch_size=32,\n",
        "                               shuffle=True,\n",
        "                               pin_memory=True)"
      ],
      "metadata": {
        "id": "AB5LVMxWIj7c"
      },
      "execution_count": 89,
      "outputs": []
    },
    {
      "cell_type": "markdown",
      "source": [
        "__3__ & __4__ & __5__:"
      ],
      "metadata": {
        "id": "JRTR2Sf1iS-f"
      }
    },
    {
      "cell_type": "code",
      "source": [
        "class VectorQuantizer(nn.Module):\n",
        "    def __init__(self, num_embeddings, embedding_dim, commitment_cost):\n",
        "        super(VectorQuantizer, self).__init__()\n",
        "\n",
        "        self._embedding_dim = embedding_dim\n",
        "        self._num_embeddings = num_embeddings\n",
        "\n",
        "        self._embedding = nn.Embedding(self._num_embeddings, self._embedding_dim)\n",
        "        self._embedding.weight.data.uniform_(-1/self._num_embeddings, 1/self._num_embeddings)\n",
        "        self._commitment_cost = commitment_cost\n",
        "\n",
        "    def forward(self, inputs):\n",
        "        inputs = inputs.permute(0, 2, 3, 1).contiguous()\n",
        "        input_shape = inputs.shape\n",
        "\n",
        "        flat_input = inputs.view(-1, self._embedding_dim)\n",
        "\n",
        "        distances = (torch.sum(flat_input**2, dim=1, keepdim=True)\n",
        "                    + torch.sum(self._embedding.weight**2, dim=1)\n",
        "                    - 2 * torch.matmul(flat_input, self._embedding.weight.t()))\n",
        "\n",
        "        encoding_indices = torch.argmin(distances, dim=1).unsqueeze(1)\n",
        "        encodings = torch.zeros(encoding_indices.shape[0], self._num_embeddings, device=inputs.device)\n",
        "        encodings.scatter_(1, encoding_indices, 1)\n",
        "\n",
        "        quantized = torch.matmul(encodings, self._embedding.weight).view(input_shape)\n",
        "\n",
        "        e_latent_loss = F.mse_loss(quantized.detach(), inputs)\n",
        "        q_latent_loss = F.mse_loss(quantized, inputs.detach())\n",
        "        loss = q_latent_loss + self._commitment_cost * e_latent_loss\n",
        "\n",
        "        quantized = inputs + (quantized - inputs).detach()\n",
        "        avg_probs = torch.mean(encodings, dim=0)\n",
        "        perplexity = torch.exp(-torch.sum(avg_probs * torch.log(avg_probs + 1e-10)))\n",
        "\n",
        "        return loss, quantized.permute(0, 3, 1, 2).contiguous(), perplexity, encodings"
      ],
      "metadata": {
        "id": "_HXWu-B_sHMP"
      },
      "execution_count": 90,
      "outputs": []
    },
    {
      "cell_type": "code",
      "source": [
        "class Residual(nn.Module):\n",
        "    def __init__(self, in_channels, num_hiddens, num_residual_hiddens):\n",
        "        super(Residual, self).__init__()\n",
        "        self._block = nn.Sequential(\n",
        "            nn.ReLU(True),\n",
        "            nn.Conv2d(in_channels=in_channels,\n",
        "                      out_channels=num_residual_hiddens,\n",
        "                      kernel_size=3, stride=1, padding=1, bias=False),\n",
        "            nn.ReLU(True),\n",
        "            nn.Conv2d(in_channels=num_residual_hiddens,\n",
        "                      out_channels=num_hiddens,\n",
        "                      kernel_size=1, stride=1, bias=False)\n",
        "        )\n",
        "\n",
        "    def forward(self, x):\n",
        "        return x + self._block(x)\n",
        "\n",
        "\n",
        "class ResidualStack(nn.Module):\n",
        "    def __init__(self, in_channels, num_hiddens, num_residual_layers, num_residual_hiddens):\n",
        "        super(ResidualStack, self).__init__()\n",
        "        self._num_residual_layers = num_residual_layers\n",
        "        self._layers = nn.ModuleList([Residual(in_channels, num_hiddens, num_residual_hiddens)\n",
        "                             for _ in range(self._num_residual_layers)])\n",
        "\n",
        "    def forward(self, x):\n",
        "        for i in range(self._num_residual_layers):\n",
        "            x = self._layers[i](x)\n",
        "        return F.relu(x)"
      ],
      "metadata": {
        "id": "mINmGYfrsPL_"
      },
      "execution_count": 91,
      "outputs": []
    },
    {
      "cell_type": "code",
      "source": [
        "class Encoder(nn.Module):\n",
        "    def __init__(self, in_channels, num_hiddens, num_residual_layers, num_residual_hiddens):\n",
        "        super(Encoder, self).__init__()\n",
        "\n",
        "        self._conv_1 = nn.Conv2d(in_channels=in_channels,\n",
        "                                 out_channels=num_hiddens//2,\n",
        "                                 kernel_size=4,\n",
        "                                 stride=2, padding=1)\n",
        "        self._conv_2 = nn.Conv2d(in_channels=num_hiddens//2,\n",
        "                                 out_channels=num_hiddens,\n",
        "                                 kernel_size=4,\n",
        "                                 stride=2, padding=1)\n",
        "        self._conv_3 = nn.Conv2d(in_channels=num_hiddens,\n",
        "                                 out_channels=num_hiddens,\n",
        "                                 kernel_size=3,\n",
        "                                 stride=1, padding=1)\n",
        "        self._residual_stack = ResidualStack(in_channels=num_hiddens,\n",
        "                                             num_hiddens=num_hiddens,\n",
        "                                             num_residual_layers=num_residual_layers,\n",
        "                                             num_residual_hiddens=num_residual_hiddens)\n",
        "\n",
        "    def forward(self, inputs):\n",
        "        x = self._conv_1(inputs)\n",
        "        x = F.relu(x)\n",
        "\n",
        "        x = self._conv_2(x)\n",
        "        x = F.relu(x)\n",
        "\n",
        "        x = self._conv_3(x)\n",
        "        return self._residual_stack(x)"
      ],
      "metadata": {
        "id": "e8amotKN2Hc2"
      },
      "execution_count": 92,
      "outputs": []
    },
    {
      "cell_type": "code",
      "source": [
        "class Decoder(nn.Module):\n",
        "    def __init__(self, in_channels, num_hiddens, num_residual_layers, num_residual_hiddens):\n",
        "        super(Decoder, self).__init__()\n",
        "\n",
        "        self._conv_1 = nn.Conv2d(in_channels=in_channels,\n",
        "                                 out_channels=num_hiddens,\n",
        "                                 kernel_size=3,\n",
        "                                 stride=1, padding=1)\n",
        "\n",
        "        self._residual_stack = ResidualStack(in_channels=num_hiddens,\n",
        "                                             num_hiddens=num_hiddens,\n",
        "                                             num_residual_layers=num_residual_layers,\n",
        "                                             num_residual_hiddens=num_residual_hiddens)\n",
        "\n",
        "        self._conv_trans_1 = nn.ConvTranspose2d(in_channels=num_hiddens,\n",
        "                                                out_channels=num_hiddens//2,\n",
        "                                                kernel_size=4,\n",
        "                                                stride=2, padding=1)\n",
        "\n",
        "        self._conv_trans_2 = nn.ConvTranspose2d(in_channels=num_hiddens//2,\n",
        "                                                out_channels=1,\n",
        "                                                kernel_size=4,\n",
        "                                                stride=2, padding=1)\n",
        "\n",
        "    def forward(self, inputs):\n",
        "        x = self._conv_1(inputs)\n",
        "\n",
        "        x = self._residual_stack(x)\n",
        "\n",
        "        x = self._conv_trans_1(x)\n",
        "        x = F.relu(x)\n",
        "\n",
        "        return self._conv_trans_2(x)"
      ],
      "metadata": {
        "id": "PAvfZfNB7taD"
      },
      "execution_count": 93,
      "outputs": []
    },
    {
      "cell_type": "code",
      "source": [
        "num_hiddens = 128\n",
        "num_residual_hiddens = 32\n",
        "num_residual_layers = 2\n",
        "\n",
        "embedding_dim = 2\n",
        "num_embeddings = 3\n",
        "\n",
        "commitment_cost = 0.25\n",
        "\n",
        "learning_rate = 1e-3"
      ],
      "metadata": {
        "id": "DcrRRRhyGKSM"
      },
      "execution_count": 94,
      "outputs": []
    },
    {
      "cell_type": "code",
      "source": [
        "class Model(nn.Module):\n",
        "    def __init__(self, num_hiddens, num_residual_layers, num_residual_hiddens,\n",
        "                 num_embeddings, embedding_dim, commitment_cost):\n",
        "        super(Model, self).__init__()\n",
        "\n",
        "        self._encoder = Encoder(1, num_hiddens,\n",
        "                                num_residual_layers,\n",
        "                                num_residual_hiddens)\n",
        "        self._pre_vq_conv = nn.Conv2d(in_channels=num_hiddens,\n",
        "                                      out_channels=embedding_dim,\n",
        "                                      kernel_size=1,\n",
        "                                      stride=1)\n",
        "\n",
        "        self._vq_vae = VectorQuantizer(num_embeddings, embedding_dim,\n",
        "                                           commitment_cost)\n",
        "        self._decoder = Decoder(embedding_dim,\n",
        "                                num_hiddens,\n",
        "                                num_residual_layers,\n",
        "                                num_residual_hiddens)\n",
        "\n",
        "    def forward(self, x):\n",
        "        z = self._encoder(x)\n",
        "        z = self._pre_vq_conv(z)\n",
        "        loss, quantized, perplexity, _ = self._vq_vae(z)\n",
        "        x_recon = self._decoder(quantized)\n",
        "\n",
        "        return loss, x_recon, perplexity"
      ],
      "metadata": {
        "id": "Genl__jGI7_Q"
      },
      "execution_count": 96,
      "outputs": []
    },
    {
      "cell_type": "code",
      "source": [
        "model = Model(num_hiddens, num_residual_layers, num_residual_hiddens,\n",
        "              num_embeddings, embedding_dim,\n",
        "              commitment_cost).to(device)"
      ],
      "metadata": {
        "id": "QgIuPZUOJAdN"
      },
      "execution_count": 97,
      "outputs": []
    },
    {
      "cell_type": "markdown",
      "source": [
        "__6__:"
      ],
      "metadata": {
        "id": "ProCrZtuioh8"
      }
    },
    {
      "cell_type": "code",
      "source": [
        "optimizer = optim.Adam(model.parameters(), lr=learning_rate, amsgrad=False)"
      ],
      "metadata": {
        "id": "wZfmPfQYKN9H"
      },
      "execution_count": 98,
      "outputs": []
    },
    {
      "cell_type": "code",
      "source": [
        "errors = []\n",
        "num_epochs = 20\n",
        "model.train()\n",
        "train_res_recon_error = []\n",
        "train_res_perplexity = []\n",
        "\n",
        "for epoch in range(num_epochs):\n",
        "    for data_label in training_loader:\n",
        "      data, _ = data_label\n",
        "      data = data.to(device)\n",
        "      optimizer.zero_grad()\n",
        "\n",
        "      vq_loss, data_recon, perplexity = model(data)\n",
        "\n",
        "      recon_error = F.mse_loss(data_recon, data)\n",
        "      loss = recon_error + vq_loss\n",
        "      loss.backward()\n",
        "\n",
        "      optimizer.step()\n",
        "\n",
        "      train_res_recon_error.append(recon_error.item())\n",
        "      train_res_perplexity.append(perplexity.item())\n",
        "\n",
        "    print('recon_error: %.3f' % np.mean(train_res_recon_error[-100:]))\n",
        "    errors.append(np.mean(train_res_recon_error[-100:]))\n",
        "    print()"
      ],
      "metadata": {
        "id": "hm8V8nJvSn9u",
        "colab": {
          "base_uri": "https://localhost:8080/"
        },
        "outputId": "1956dd4d-feef-478e-f62e-8471864c7218"
      },
      "execution_count": 99,
      "outputs": [
        {
          "output_type": "stream",
          "name": "stdout",
          "text": [
            "recon_error: 0.019\n",
            "\n",
            "recon_error: 0.016\n",
            "\n",
            "recon_error: 0.015\n",
            "\n",
            "recon_error: 0.014\n",
            "\n",
            "recon_error: 0.014\n",
            "\n",
            "recon_error: 0.014\n",
            "\n",
            "recon_error: 0.014\n",
            "\n",
            "recon_error: 0.014\n",
            "\n",
            "recon_error: 0.013\n",
            "\n",
            "recon_error: 0.013\n",
            "\n",
            "recon_error: 0.013\n",
            "\n",
            "recon_error: 0.013\n",
            "\n",
            "recon_error: 0.013\n",
            "\n",
            "recon_error: 0.013\n",
            "\n",
            "recon_error: 0.013\n",
            "\n",
            "recon_error: 0.013\n",
            "\n",
            "recon_error: 0.013\n",
            "\n",
            "recon_error: 0.013\n",
            "\n",
            "recon_error: 0.013\n",
            "\n",
            "recon_error: 0.013\n",
            "\n"
          ]
        }
      ]
    },
    {
      "cell_type": "code",
      "source": [
        "x = list(range(1, 21))\n",
        "plt.plot(x, errors)"
      ],
      "metadata": {
        "colab": {
          "base_uri": "https://localhost:8080/",
          "height": 448
        },
        "id": "cH4lLSsCohyo",
        "outputId": "062d7c9e-9279-4dec-cd96-905a92af5522"
      },
      "execution_count": 100,
      "outputs": [
        {
          "output_type": "execute_result",
          "data": {
            "text/plain": [
              "[<matplotlib.lines.Line2D at 0x79b682978490>]"
            ]
          },
          "metadata": {},
          "execution_count": 100
        },
        {
          "output_type": "display_data",
          "data": {
            "text/plain": [
              "<Figure size 640x480 with 1 Axes>"
            ],
            "image/png": "[encoded data removed]"
          },
          "metadata": {}
        }
      ]
    }
  ]
}